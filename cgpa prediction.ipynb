{
 "cells": [
  {
   "cell_type": "markdown",
   "id": "38d33ea2",
   "metadata": {},
   "source": [
    "WAJIHA KHAN (CS-19064)\n",
    "HAFIZA JAVERIA ADIL (CS-19301)"
   ]
  },
  {
   "cell_type": "markdown",
   "id": "efff9ea8",
   "metadata": {},
   "source": [
    "# COMPLEX ENGINEERING PROJECT"
   ]
  },
  {
   "cell_type": "code",
   "execution_count": 1,
   "id": "de2f2b01",
   "metadata": {
    "executionInfo": {
     "elapsed": 28,
     "status": "ok",
     "timestamp": 1656416649612,
     "user": {
      "displayName": "Javeria Zaman",
      "userId": "09828762585372323680"
     },
     "user_tz": -300
    },
    "id": "de2f2b01"
   },
   "outputs": [],
   "source": [
    "#IMPORTING THE REQUIRED LIBRARIES\n",
    "import pandas as pd\n",
    "import numpy as np\n",
    "import matplotlib.pyplot as plt\n",
    "from sklearn import model_selection\n",
    "from sklearn.model_selection import KFold"
   ]
  },
  {
   "cell_type": "markdown",
   "id": "5EWgJZWv8OeB",
   "metadata": {
    "id": "5EWgJZWv8OeB"
   },
   "source": []
  },
  {
   "cell_type": "code",
   "execution_count": 2,
   "id": "3fbc27e5",
   "metadata": {
    "colab": {
     "base_uri": "https://localhost:8080/",
     "height": 259
    },
    "executionInfo": {
     "elapsed": 404,
     "status": "error",
     "timestamp": 1656417096341,
     "user": {
      "displayName": "Javeria Zaman",
      "userId": "09828762585372323680"
     },
     "user_tz": -300
    },
    "id": "3fbc27e5",
    "outputId": "ab98ff2a-d63c-4690-b9b8-86aa3fa8b4dc"
   },
   "outputs": [
    {
     "name": "stdout",
     "output_type": "stream",
     "text": [
      "<class 'pandas.core.frame.DataFrame'>\n",
      "RangeIndex: 571 entries, 0 to 570\n",
      "Data columns (total 43 columns):\n",
      " #   Column     Non-Null Count  Dtype  \n",
      "---  ------     --------------  -----  \n",
      " 0   Seat No.   571 non-null    object \n",
      " 1   PH-121     571 non-null    object \n",
      " 2   HS-101     571 non-null    object \n",
      " 3   CY-105     570 non-null    object \n",
      " 4   HS-105/12  570 non-null    object \n",
      " 5   MT-111     569 non-null    object \n",
      " 6   CS-105     571 non-null    object \n",
      " 7   CS-106     569 non-null    object \n",
      " 8   EL-102     569 non-null    object \n",
      " 9   EE-119     569 non-null    object \n",
      " 10  ME-107     569 non-null    object \n",
      " 11  CS-107     569 non-null    object \n",
      " 12  HS-205/20  566 non-null    object \n",
      " 13  MT-222     566 non-null    object \n",
      " 14  EE-222     564 non-null    object \n",
      " 15  MT-224     564 non-null    object \n",
      " 16  CS-210     564 non-null    object \n",
      " 17  CS-211     566 non-null    object \n",
      " 18  CS-203     566 non-null    object \n",
      " 19  CS-214     565 non-null    object \n",
      " 20  EE-217     565 non-null    object \n",
      " 21  CS-212     565 non-null    object \n",
      " 22  CS-215     565 non-null    object \n",
      " 23  MT-331     562 non-null    object \n",
      " 24  EF-303     561 non-null    object \n",
      " 25  HS-304     561 non-null    object \n",
      " 26  CS-301     561 non-null    object \n",
      " 27  CS-302     561 non-null    object \n",
      " 28  TC-383     561 non-null    object \n",
      " 29  MT-442     561 non-null    object \n",
      " 30  EL-332     562 non-null    object \n",
      " 31  CS-318     562 non-null    object \n",
      " 32  CS-306     562 non-null    object \n",
      " 33  CS-312     561 non-null    object \n",
      " 34  CS-317     559 non-null    object \n",
      " 35  CS-403     559 non-null    object \n",
      " 36  CS-421     559 non-null    object \n",
      " 37  CS-406     486 non-null    object \n",
      " 38  CS-414     558 non-null    object \n",
      " 39  CS-419     558 non-null    object \n",
      " 40  CS-423     557 non-null    object \n",
      " 41  CS-412     492 non-null    object \n",
      " 42  CGPA       571 non-null    float64\n",
      "dtypes: float64(1), object(42)\n",
      "memory usage: 191.9+ KB\n"
     ]
    },
    {
     "data": {
      "text/html": [
       "<div>\n",
       "<style scoped>\n",
       "    .dataframe tbody tr th:only-of-type {\n",
       "        vertical-align: middle;\n",
       "    }\n",
       "\n",
       "    .dataframe tbody tr th {\n",
       "        vertical-align: top;\n",
       "    }\n",
       "\n",
       "    .dataframe thead th {\n",
       "        text-align: right;\n",
       "    }\n",
       "</style>\n",
       "<table border=\"1\" class=\"dataframe\">\n",
       "  <thead>\n",
       "    <tr style=\"text-align: right;\">\n",
       "      <th></th>\n",
       "      <th>Seat No.</th>\n",
       "      <th>PH-121</th>\n",
       "      <th>HS-101</th>\n",
       "      <th>CY-105</th>\n",
       "      <th>HS-105/12</th>\n",
       "      <th>MT-111</th>\n",
       "      <th>CS-105</th>\n",
       "      <th>CS-106</th>\n",
       "      <th>EL-102</th>\n",
       "      <th>EE-119</th>\n",
       "      <th>...</th>\n",
       "      <th>CS-312</th>\n",
       "      <th>CS-317</th>\n",
       "      <th>CS-403</th>\n",
       "      <th>CS-421</th>\n",
       "      <th>CS-406</th>\n",
       "      <th>CS-414</th>\n",
       "      <th>CS-419</th>\n",
       "      <th>CS-423</th>\n",
       "      <th>CS-412</th>\n",
       "      <th>CGPA</th>\n",
       "    </tr>\n",
       "  </thead>\n",
       "  <tbody>\n",
       "    <tr>\n",
       "      <th>0</th>\n",
       "      <td>CS-97001</td>\n",
       "      <td>B-</td>\n",
       "      <td>D+</td>\n",
       "      <td>C-</td>\n",
       "      <td>C</td>\n",
       "      <td>C-</td>\n",
       "      <td>D+</td>\n",
       "      <td>D</td>\n",
       "      <td>C-</td>\n",
       "      <td>B-</td>\n",
       "      <td>...</td>\n",
       "      <td>C-</td>\n",
       "      <td>C-</td>\n",
       "      <td>C-</td>\n",
       "      <td>C-</td>\n",
       "      <td>A-</td>\n",
       "      <td>A</td>\n",
       "      <td>C-</td>\n",
       "      <td>B</td>\n",
       "      <td>A-</td>\n",
       "      <td>2.205</td>\n",
       "    </tr>\n",
       "    <tr>\n",
       "      <th>1</th>\n",
       "      <td>CS-97002</td>\n",
       "      <td>A</td>\n",
       "      <td>D</td>\n",
       "      <td>D+</td>\n",
       "      <td>D</td>\n",
       "      <td>B-</td>\n",
       "      <td>C</td>\n",
       "      <td>D</td>\n",
       "      <td>A</td>\n",
       "      <td>D+</td>\n",
       "      <td>...</td>\n",
       "      <td>D+</td>\n",
       "      <td>D</td>\n",
       "      <td>C</td>\n",
       "      <td>D</td>\n",
       "      <td>A-</td>\n",
       "      <td>B-</td>\n",
       "      <td>C</td>\n",
       "      <td>C</td>\n",
       "      <td>B</td>\n",
       "      <td>2.008</td>\n",
       "    </tr>\n",
       "    <tr>\n",
       "      <th>2</th>\n",
       "      <td>CS-97003</td>\n",
       "      <td>A</td>\n",
       "      <td>B</td>\n",
       "      <td>A</td>\n",
       "      <td>B-</td>\n",
       "      <td>B+</td>\n",
       "      <td>A</td>\n",
       "      <td>B-</td>\n",
       "      <td>B+</td>\n",
       "      <td>A-</td>\n",
       "      <td>...</td>\n",
       "      <td>B</td>\n",
       "      <td>B</td>\n",
       "      <td>A</td>\n",
       "      <td>C</td>\n",
       "      <td>A</td>\n",
       "      <td>A</td>\n",
       "      <td>A</td>\n",
       "      <td>A-</td>\n",
       "      <td>A</td>\n",
       "      <td>3.608</td>\n",
       "    </tr>\n",
       "    <tr>\n",
       "      <th>3</th>\n",
       "      <td>CS-97004</td>\n",
       "      <td>D</td>\n",
       "      <td>C+</td>\n",
       "      <td>D+</td>\n",
       "      <td>D</td>\n",
       "      <td>D</td>\n",
       "      <td>A-</td>\n",
       "      <td>D+</td>\n",
       "      <td>C-</td>\n",
       "      <td>D</td>\n",
       "      <td>...</td>\n",
       "      <td>D+</td>\n",
       "      <td>C</td>\n",
       "      <td>D+</td>\n",
       "      <td>C-</td>\n",
       "      <td>B-</td>\n",
       "      <td>B</td>\n",
       "      <td>C+</td>\n",
       "      <td>C+</td>\n",
       "      <td>C+</td>\n",
       "      <td>1.906</td>\n",
       "    </tr>\n",
       "    <tr>\n",
       "      <th>4</th>\n",
       "      <td>CS-97005</td>\n",
       "      <td>A-</td>\n",
       "      <td>A-</td>\n",
       "      <td>A-</td>\n",
       "      <td>B+</td>\n",
       "      <td>A</td>\n",
       "      <td>A</td>\n",
       "      <td>A-</td>\n",
       "      <td>B+</td>\n",
       "      <td>A</td>\n",
       "      <td>...</td>\n",
       "      <td>B-</td>\n",
       "      <td>B+</td>\n",
       "      <td>B+</td>\n",
       "      <td>B-</td>\n",
       "      <td>A-</td>\n",
       "      <td>A</td>\n",
       "      <td>A-</td>\n",
       "      <td>A-</td>\n",
       "      <td>A</td>\n",
       "      <td>3.448</td>\n",
       "    </tr>\n",
       "  </tbody>\n",
       "</table>\n",
       "<p>5 rows × 43 columns</p>\n",
       "</div>"
      ],
      "text/plain": [
       "   Seat No. PH-121 HS-101 CY-105 HS-105/12 MT-111 CS-105 CS-106 EL-102 EE-119  \\\n",
       "0  CS-97001     B-     D+     C-         C     C-     D+      D     C-     B-   \n",
       "1  CS-97002      A      D     D+         D     B-      C      D      A     D+   \n",
       "2  CS-97003      A      B      A        B-     B+      A     B-     B+     A-   \n",
       "3  CS-97004      D     C+     D+         D      D     A-     D+     C-      D   \n",
       "4  CS-97005     A-     A-     A-        B+      A      A     A-     B+      A   \n",
       "\n",
       "   ... CS-312 CS-317 CS-403 CS-421 CS-406 CS-414 CS-419 CS-423 CS-412   CGPA  \n",
       "0  ...     C-     C-     C-     C-     A-      A     C-      B     A-  2.205  \n",
       "1  ...     D+      D      C      D     A-     B-      C      C      B  2.008  \n",
       "2  ...      B      B      A      C      A      A      A     A-      A  3.608  \n",
       "3  ...     D+      C     D+     C-     B-      B     C+     C+     C+  1.906  \n",
       "4  ...     B-     B+     B+     B-     A-      A     A-     A-      A  3.448  \n",
       "\n",
       "[5 rows x 43 columns]"
      ]
     },
     "execution_count": 2,
     "metadata": {},
     "output_type": "execute_result"
    }
   ],
   "source": [
    "#LOADING THE DATASET IN THE PROJECT\n",
    "dataset=pd.read_csv(\"The_Grades_Dataset.csv\")\n",
    "dataset.info()#INFORMATION ABOUT THE DATA ABOUT HAVING NULL VALUES\n",
    "dataset.head()#PRINTS UPPER 5 ROWS IN THE DATA "
   ]
  },
  {
   "cell_type": "code",
   "execution_count": 3,
   "id": "96dc1206",
   "metadata": {
    "executionInfo": {
     "elapsed": 34,
     "status": "aborted",
     "timestamp": 1656416680642,
     "user": {
      "displayName": "Javeria Zaman",
      "userId": "09828762585372323680"
     },
     "user_tz": -300
    },
    "id": "96dc1206"
   },
   "outputs": [
    {
     "data": {
      "text/plain": [
       "0    2.205\n",
       "1    2.008\n",
       "2    3.608\n",
       "3    1.906\n",
       "4    3.448\n",
       "Name: CGPA, dtype: float64"
      ]
     },
     "execution_count": 3,
     "metadata": {},
     "output_type": "execute_result"
    }
   ],
   "source": [
    "#DECLARING CGPA AS THE OUTPUT\n",
    "output=dataset.CGPA\n",
    "output.head()#PRINTS UPPER 5 ROWS IN THE DATA "
   ]
  },
  {
   "cell_type": "code",
   "execution_count": 4,
   "id": "70e0719a",
   "metadata": {
    "executionInfo": {
     "elapsed": 37,
     "status": "aborted",
     "timestamp": 1656416680645,
     "user": {
      "displayName": "Javeria Zaman",
      "userId": "09828762585372323680"
     },
     "user_tz": -300
    },
    "id": "70e0719a"
   },
   "outputs": [],
   "source": [
    "#SEPARATING INPUT AND OUTPUT FEATURES\n",
    "\n",
    "courses=dataset.drop(['CGPA','Seat No.'],axis=\"columns\")\n"
   ]
  },
  {
   "cell_type": "code",
   "execution_count": 5,
   "id": "2c10438e",
   "metadata": {
    "executionInfo": {
     "elapsed": 37,
     "status": "aborted",
     "timestamp": 1656416680646,
     "user": {
      "displayName": "Javeria Zaman",
      "userId": "09828762585372323680"
     },
     "user_tz": -300
    },
    "id": "2c10438e"
   },
   "outputs": [
    {
     "name": "stdout",
     "output_type": "stream",
     "text": [
      "<class 'pandas.core.frame.DataFrame'>\n",
      "RangeIndex: 571 entries, 0 to 570\n",
      "Data columns (total 41 columns):\n",
      " #   Column     Non-Null Count  Dtype \n",
      "---  ------     --------------  ----- \n",
      " 0   PH-121     571 non-null    object\n",
      " 1   HS-101     571 non-null    object\n",
      " 2   CY-105     570 non-null    object\n",
      " 3   HS-105/12  570 non-null    object\n",
      " 4   MT-111     569 non-null    object\n",
      " 5   CS-105     571 non-null    object\n",
      " 6   CS-106     569 non-null    object\n",
      " 7   EL-102     569 non-null    object\n",
      " 8   EE-119     569 non-null    object\n",
      " 9   ME-107     569 non-null    object\n",
      " 10  CS-107     569 non-null    object\n",
      " 11  HS-205/20  566 non-null    object\n",
      " 12  MT-222     566 non-null    object\n",
      " 13  EE-222     564 non-null    object\n",
      " 14  MT-224     564 non-null    object\n",
      " 15  CS-210     564 non-null    object\n",
      " 16  CS-211     566 non-null    object\n",
      " 17  CS-203     566 non-null    object\n",
      " 18  CS-214     565 non-null    object\n",
      " 19  EE-217     565 non-null    object\n",
      " 20  CS-212     565 non-null    object\n",
      " 21  CS-215     565 non-null    object\n",
      " 22  MT-331     562 non-null    object\n",
      " 23  EF-303     561 non-null    object\n",
      " 24  HS-304     561 non-null    object\n",
      " 25  CS-301     561 non-null    object\n",
      " 26  CS-302     561 non-null    object\n",
      " 27  TC-383     561 non-null    object\n",
      " 28  MT-442     561 non-null    object\n",
      " 29  EL-332     562 non-null    object\n",
      " 30  CS-318     562 non-null    object\n",
      " 31  CS-306     562 non-null    object\n",
      " 32  CS-312     561 non-null    object\n",
      " 33  CS-317     559 non-null    object\n",
      " 34  CS-403     559 non-null    object\n",
      " 35  CS-421     559 non-null    object\n",
      " 36  CS-406     486 non-null    object\n",
      " 37  CS-414     558 non-null    object\n",
      " 38  CS-419     558 non-null    object\n",
      " 39  CS-423     557 non-null    object\n",
      " 40  CS-412     492 non-null    object\n",
      "dtypes: object(41)\n",
      "memory usage: 183.0+ KB\n"
     ]
    }
   ],
   "source": [
    "courses.info()#INFORMATION ABOUT THE DATA ABOUT HAVING NULL VALUES"
   ]
  },
  {
   "cell_type": "code",
   "execution_count": 6,
   "id": "2700e297",
   "metadata": {
    "executionInfo": {
     "elapsed": 37,
     "status": "aborted",
     "timestamp": 1656416680647,
     "user": {
      "displayName": "Javeria Zaman",
      "userId": "09828762585372323680"
     },
     "user_tz": -300
    },
    "id": "2700e297"
   },
   "outputs": [],
   "source": [
    "AssignGPs={\n",
    "    \"A+\": 4.0,\n",
    "    \"A\": 4.0,\n",
    "    \"A-\" : 3.7,\n",
    "    \"B+\" : 3.4,\n",
    "    \"B\" : 3.0,\n",
    "    \"B-\" : 2.7,\n",
    "    \"C+\" : 2.4,\n",
    "    \"C\" : 2.0,\n",
    "    \"C-\" : 1.7,\n",
    "    \"D+\" : 1.4,\n",
    "    \"D\" : 1.0,\n",
    "    \"F\" : 0.0,\n",
    "    \"WU\" :0\n",
    "}"
   ]
  },
  {
   "cell_type": "code",
   "execution_count": 7,
   "id": "f73671cf",
   "metadata": {
    "executionInfo": {
     "elapsed": 38,
     "status": "aborted",
     "timestamp": 1656416680648,
     "user": {
      "displayName": "Javeria Zaman",
      "userId": "09828762585372323680"
     },
     "user_tz": -300
    },
    "id": "f73671cf",
    "scrolled": true
   },
   "outputs": [
    {
     "data": {
      "text/html": [
       "<div>\n",
       "<style scoped>\n",
       "    .dataframe tbody tr th:only-of-type {\n",
       "        vertical-align: middle;\n",
       "    }\n",
       "\n",
       "    .dataframe tbody tr th {\n",
       "        vertical-align: top;\n",
       "    }\n",
       "\n",
       "    .dataframe thead th {\n",
       "        text-align: right;\n",
       "    }\n",
       "</style>\n",
       "<table border=\"1\" class=\"dataframe\">\n",
       "  <thead>\n",
       "    <tr style=\"text-align: right;\">\n",
       "      <th></th>\n",
       "      <th>PH-121</th>\n",
       "      <th>HS-101</th>\n",
       "      <th>CY-105</th>\n",
       "      <th>HS-105/12</th>\n",
       "      <th>MT-111</th>\n",
       "      <th>CS-105</th>\n",
       "      <th>CS-106</th>\n",
       "      <th>EL-102</th>\n",
       "      <th>EE-119</th>\n",
       "      <th>ME-107</th>\n",
       "      <th>...</th>\n",
       "      <th>CS-306</th>\n",
       "      <th>CS-312</th>\n",
       "      <th>CS-317</th>\n",
       "      <th>CS-403</th>\n",
       "      <th>CS-421</th>\n",
       "      <th>CS-406</th>\n",
       "      <th>CS-414</th>\n",
       "      <th>CS-419</th>\n",
       "      <th>CS-423</th>\n",
       "      <th>CS-412</th>\n",
       "    </tr>\n",
       "  </thead>\n",
       "  <tbody>\n",
       "    <tr>\n",
       "      <th>0</th>\n",
       "      <td>2.7</td>\n",
       "      <td>1.4</td>\n",
       "      <td>1.7</td>\n",
       "      <td>2.0</td>\n",
       "      <td>1.7</td>\n",
       "      <td>1.4</td>\n",
       "      <td>1.0</td>\n",
       "      <td>1.7</td>\n",
       "      <td>2.7</td>\n",
       "      <td>1.7</td>\n",
       "      <td>...</td>\n",
       "      <td>2.0</td>\n",
       "      <td>1.7</td>\n",
       "      <td>1.7</td>\n",
       "      <td>1.7</td>\n",
       "      <td>1.7</td>\n",
       "      <td>3.7</td>\n",
       "      <td>4.0</td>\n",
       "      <td>1.7</td>\n",
       "      <td>3.0</td>\n",
       "      <td>3.7</td>\n",
       "    </tr>\n",
       "    <tr>\n",
       "      <th>1</th>\n",
       "      <td>4.0</td>\n",
       "      <td>1.0</td>\n",
       "      <td>1.4</td>\n",
       "      <td>1.0</td>\n",
       "      <td>2.7</td>\n",
       "      <td>2.0</td>\n",
       "      <td>1.0</td>\n",
       "      <td>4.0</td>\n",
       "      <td>1.4</td>\n",
       "      <td>1.0</td>\n",
       "      <td>...</td>\n",
       "      <td>1.0</td>\n",
       "      <td>1.4</td>\n",
       "      <td>1.0</td>\n",
       "      <td>2.0</td>\n",
       "      <td>1.0</td>\n",
       "      <td>3.7</td>\n",
       "      <td>2.7</td>\n",
       "      <td>2.0</td>\n",
       "      <td>2.0</td>\n",
       "      <td>3.0</td>\n",
       "    </tr>\n",
       "    <tr>\n",
       "      <th>2</th>\n",
       "      <td>4.0</td>\n",
       "      <td>3.0</td>\n",
       "      <td>4.0</td>\n",
       "      <td>2.7</td>\n",
       "      <td>3.4</td>\n",
       "      <td>4.0</td>\n",
       "      <td>2.7</td>\n",
       "      <td>3.4</td>\n",
       "      <td>3.7</td>\n",
       "      <td>3.7</td>\n",
       "      <td>...</td>\n",
       "      <td>3.7</td>\n",
       "      <td>3.0</td>\n",
       "      <td>3.0</td>\n",
       "      <td>4.0</td>\n",
       "      <td>2.0</td>\n",
       "      <td>4.0</td>\n",
       "      <td>4.0</td>\n",
       "      <td>4.0</td>\n",
       "      <td>3.7</td>\n",
       "      <td>4.0</td>\n",
       "    </tr>\n",
       "    <tr>\n",
       "      <th>3</th>\n",
       "      <td>1.0</td>\n",
       "      <td>2.4</td>\n",
       "      <td>1.4</td>\n",
       "      <td>1.0</td>\n",
       "      <td>1.0</td>\n",
       "      <td>3.7</td>\n",
       "      <td>1.4</td>\n",
       "      <td>1.7</td>\n",
       "      <td>1.0</td>\n",
       "      <td>2.4</td>\n",
       "      <td>...</td>\n",
       "      <td>1.7</td>\n",
       "      <td>1.4</td>\n",
       "      <td>2.0</td>\n",
       "      <td>1.4</td>\n",
       "      <td>1.7</td>\n",
       "      <td>2.7</td>\n",
       "      <td>3.0</td>\n",
       "      <td>2.4</td>\n",
       "      <td>2.4</td>\n",
       "      <td>2.4</td>\n",
       "    </tr>\n",
       "    <tr>\n",
       "      <th>4</th>\n",
       "      <td>3.7</td>\n",
       "      <td>3.7</td>\n",
       "      <td>3.7</td>\n",
       "      <td>3.4</td>\n",
       "      <td>4.0</td>\n",
       "      <td>4.0</td>\n",
       "      <td>3.7</td>\n",
       "      <td>3.4</td>\n",
       "      <td>4.0</td>\n",
       "      <td>3.7</td>\n",
       "      <td>...</td>\n",
       "      <td>3.7</td>\n",
       "      <td>2.7</td>\n",
       "      <td>3.4</td>\n",
       "      <td>3.4</td>\n",
       "      <td>2.7</td>\n",
       "      <td>3.7</td>\n",
       "      <td>4.0</td>\n",
       "      <td>3.7</td>\n",
       "      <td>3.7</td>\n",
       "      <td>4.0</td>\n",
       "    </tr>\n",
       "  </tbody>\n",
       "</table>\n",
       "<p>5 rows × 41 columns</p>\n",
       "</div>"
      ],
      "text/plain": [
       "   PH-121  HS-101  CY-105  HS-105/12  MT-111  CS-105  CS-106  EL-102  EE-119  \\\n",
       "0     2.7     1.4     1.7        2.0     1.7     1.4     1.0     1.7     2.7   \n",
       "1     4.0     1.0     1.4        1.0     2.7     2.0     1.0     4.0     1.4   \n",
       "2     4.0     3.0     4.0        2.7     3.4     4.0     2.7     3.4     3.7   \n",
       "3     1.0     2.4     1.4        1.0     1.0     3.7     1.4     1.7     1.0   \n",
       "4     3.7     3.7     3.7        3.4     4.0     4.0     3.7     3.4     4.0   \n",
       "\n",
       "   ME-107  ...  CS-306  CS-312  CS-317  CS-403  CS-421  CS-406  CS-414  \\\n",
       "0     1.7  ...     2.0     1.7     1.7     1.7     1.7     3.7     4.0   \n",
       "1     1.0  ...     1.0     1.4     1.0     2.0     1.0     3.7     2.7   \n",
       "2     3.7  ...     3.7     3.0     3.0     4.0     2.0     4.0     4.0   \n",
       "3     2.4  ...     1.7     1.4     2.0     1.4     1.7     2.7     3.0   \n",
       "4     3.7  ...     3.7     2.7     3.4     3.4     2.7     3.7     4.0   \n",
       "\n",
       "   CS-419  CS-423  CS-412  \n",
       "0     1.7     3.0     3.7  \n",
       "1     2.0     2.0     3.0  \n",
       "2     4.0     3.7     4.0  \n",
       "3     2.4     2.4     2.4  \n",
       "4     3.7     3.7     4.0  \n",
       "\n",
       "[5 rows x 41 columns]"
      ]
     },
     "execution_count": 7,
     "metadata": {},
     "output_type": "execute_result"
    }
   ],
   "source": [
    "#ASSIGNING GRADE POINTS TO ALL THE GRADES IN THE DATASET\n",
    "for i in courses:\n",
    "    courses[i]=courses[i].map(AssignGPs)\n",
    "courses.head()#PRINTS UPPER 5 ROWS IN THE DATA "
   ]
  },
  {
   "cell_type": "code",
   "execution_count": 8,
   "id": "1f5c670a",
   "metadata": {
    "executionInfo": {
     "elapsed": 40,
     "status": "aborted",
     "timestamp": 1656416680651,
     "user": {
      "displayName": "Javeria Zaman",
      "userId": "09828762585372323680"
     },
     "user_tz": -300
    },
    "id": "1f5c670a"
   },
   "outputs": [
    {
     "data": {
      "text/plain": [
       "Index(['CY-105', 'HS-105/12', 'MT-111', 'CS-106', 'EL-102', 'EE-119', 'ME-107',\n",
       "       'CS-107', 'HS-205/20', 'MT-222', 'EE-222', 'MT-224', 'CS-210', 'CS-211',\n",
       "       'CS-203', 'CS-214', 'EE-217', 'CS-212', 'CS-215', 'MT-331', 'EF-303',\n",
       "       'HS-304', 'CS-301', 'CS-302', 'TC-383', 'MT-442', 'EL-332', 'CS-318',\n",
       "       'CS-306', 'CS-312', 'CS-317', 'CS-403', 'CS-421', 'CS-406', 'CS-414',\n",
       "       'CS-419', 'CS-423', 'CS-412'],\n",
       "      dtype='object')"
      ]
     },
     "execution_count": 8,
     "metadata": {},
     "output_type": "execute_result"
    }
   ],
   "source": [
    "#CHECKING FOR NULL VALUES IN THE DATASET\n",
    "courses.columns[courses.isna().any()]"
   ]
  },
  {
   "cell_type": "code",
   "execution_count": 9,
   "id": "626c41d8",
   "metadata": {
    "executionInfo": {
     "elapsed": 40,
     "status": "aborted",
     "timestamp": 1656416680652,
     "user": {
      "displayName": "Javeria Zaman",
      "userId": "09828762585372323680"
     },
     "user_tz": -300
    },
    "id": "626c41d8"
   },
   "outputs": [],
   "source": [
    "#FILLING THE NULL VALUES BY 0\n",
    "courses[0:]=courses[0:].fillna(0)"
   ]
  },
  {
   "cell_type": "code",
   "execution_count": 10,
   "id": "7f63fbe0",
   "metadata": {
    "executionInfo": {
     "elapsed": 42,
     "status": "aborted",
     "timestamp": 1656416680654,
     "user": {
      "displayName": "Javeria Zaman",
      "userId": "09828762585372323680"
     },
     "user_tz": -300
    },
    "id": "7f63fbe0"
   },
   "outputs": [
    {
     "name": "stdout",
     "output_type": "stream",
     "text": [
      "<class 'pandas.core.frame.DataFrame'>\n",
      "RangeIndex: 571 entries, 0 to 570\n",
      "Data columns (total 41 columns):\n",
      " #   Column     Non-Null Count  Dtype  \n",
      "---  ------     --------------  -----  \n",
      " 0   PH-121     571 non-null    float64\n",
      " 1   HS-101     571 non-null    float64\n",
      " 2   CY-105     571 non-null    float64\n",
      " 3   HS-105/12  571 non-null    float64\n",
      " 4   MT-111     571 non-null    float64\n",
      " 5   CS-105     571 non-null    float64\n",
      " 6   CS-106     571 non-null    float64\n",
      " 7   EL-102     571 non-null    float64\n",
      " 8   EE-119     571 non-null    float64\n",
      " 9   ME-107     571 non-null    float64\n",
      " 10  CS-107     571 non-null    float64\n",
      " 11  HS-205/20  571 non-null    float64\n",
      " 12  MT-222     571 non-null    float64\n",
      " 13  EE-222     571 non-null    float64\n",
      " 14  MT-224     571 non-null    float64\n",
      " 15  CS-210     571 non-null    float64\n",
      " 16  CS-211     571 non-null    float64\n",
      " 17  CS-203     571 non-null    float64\n",
      " 18  CS-214     571 non-null    float64\n",
      " 19  EE-217     571 non-null    float64\n",
      " 20  CS-212     571 non-null    float64\n",
      " 21  CS-215     571 non-null    float64\n",
      " 22  MT-331     571 non-null    float64\n",
      " 23  EF-303     571 non-null    float64\n",
      " 24  HS-304     571 non-null    float64\n",
      " 25  CS-301     571 non-null    float64\n",
      " 26  CS-302     571 non-null    float64\n",
      " 27  TC-383     571 non-null    float64\n",
      " 28  MT-442     571 non-null    float64\n",
      " 29  EL-332     571 non-null    float64\n",
      " 30  CS-318     571 non-null    float64\n",
      " 31  CS-306     571 non-null    float64\n",
      " 32  CS-312     571 non-null    float64\n",
      " 33  CS-317     571 non-null    float64\n",
      " 34  CS-403     571 non-null    float64\n",
      " 35  CS-421     571 non-null    float64\n",
      " 36  CS-406     571 non-null    float64\n",
      " 37  CS-414     571 non-null    float64\n",
      " 38  CS-419     571 non-null    float64\n",
      " 39  CS-423     571 non-null    float64\n",
      " 40  CS-412     571 non-null    float64\n",
      "dtypes: float64(41)\n",
      "memory usage: 183.0 KB\n"
     ]
    }
   ],
   "source": [
    "courses.info()#INFORMATION ABOUT THE DATA ABOUT HAVING NULL VALUES"
   ]
  },
  {
   "cell_type": "code",
   "execution_count": 11,
   "id": "j-RxQx9nJvT-",
   "metadata": {
    "executionInfo": {
     "elapsed": 44,
     "status": "aborted",
     "timestamp": 1656416680656,
     "user": {
      "displayName": "Javeria Zaman",
      "userId": "09828762585372323680"
     },
     "user_tz": -300
    },
    "id": "j-RxQx9nJvT-"
   },
   "outputs": [
    {
     "data": {
      "text/html": [
       "<div>\n",
       "<style scoped>\n",
       "    .dataframe tbody tr th:only-of-type {\n",
       "        vertical-align: middle;\n",
       "    }\n",
       "\n",
       "    .dataframe tbody tr th {\n",
       "        vertical-align: top;\n",
       "    }\n",
       "\n",
       "    .dataframe thead th {\n",
       "        text-align: right;\n",
       "    }\n",
       "</style>\n",
       "<table border=\"1\" class=\"dataframe\">\n",
       "  <thead>\n",
       "    <tr style=\"text-align: right;\">\n",
       "      <th></th>\n",
       "      <th>PH-121</th>\n",
       "      <th>HS-101</th>\n",
       "      <th>CY-105</th>\n",
       "      <th>HS-105/12</th>\n",
       "      <th>MT-111</th>\n",
       "      <th>CS-105</th>\n",
       "      <th>CS-106</th>\n",
       "      <th>EL-102</th>\n",
       "      <th>EE-119</th>\n",
       "      <th>ME-107</th>\n",
       "      <th>...</th>\n",
       "      <th>CS-306</th>\n",
       "      <th>CS-312</th>\n",
       "      <th>CS-317</th>\n",
       "      <th>CS-403</th>\n",
       "      <th>CS-421</th>\n",
       "      <th>CS-406</th>\n",
       "      <th>CS-414</th>\n",
       "      <th>CS-419</th>\n",
       "      <th>CS-423</th>\n",
       "      <th>CS-412</th>\n",
       "    </tr>\n",
       "  </thead>\n",
       "  <tbody>\n",
       "    <tr>\n",
       "      <th>0</th>\n",
       "      <td>10.8</td>\n",
       "      <td>2.8</td>\n",
       "      <td>5.1</td>\n",
       "      <td>6.0</td>\n",
       "      <td>5.1</td>\n",
       "      <td>5.6</td>\n",
       "      <td>4.0</td>\n",
       "      <td>5.1</td>\n",
       "      <td>10.8</td>\n",
       "      <td>6.8</td>\n",
       "      <td>...</td>\n",
       "      <td>8.0</td>\n",
       "      <td>5.1</td>\n",
       "      <td>5.1</td>\n",
       "      <td>5.1</td>\n",
       "      <td>6.8</td>\n",
       "      <td>7.4</td>\n",
       "      <td>12.0</td>\n",
       "      <td>6.8</td>\n",
       "      <td>12.0</td>\n",
       "      <td>14.8</td>\n",
       "    </tr>\n",
       "    <tr>\n",
       "      <th>1</th>\n",
       "      <td>16.0</td>\n",
       "      <td>2.0</td>\n",
       "      <td>4.2</td>\n",
       "      <td>3.0</td>\n",
       "      <td>8.1</td>\n",
       "      <td>8.0</td>\n",
       "      <td>4.0</td>\n",
       "      <td>12.0</td>\n",
       "      <td>5.6</td>\n",
       "      <td>4.0</td>\n",
       "      <td>...</td>\n",
       "      <td>4.0</td>\n",
       "      <td>4.2</td>\n",
       "      <td>3.0</td>\n",
       "      <td>6.0</td>\n",
       "      <td>4.0</td>\n",
       "      <td>7.4</td>\n",
       "      <td>8.1</td>\n",
       "      <td>8.0</td>\n",
       "      <td>8.0</td>\n",
       "      <td>12.0</td>\n",
       "    </tr>\n",
       "    <tr>\n",
       "      <th>2</th>\n",
       "      <td>16.0</td>\n",
       "      <td>6.0</td>\n",
       "      <td>12.0</td>\n",
       "      <td>8.1</td>\n",
       "      <td>10.2</td>\n",
       "      <td>16.0</td>\n",
       "      <td>10.8</td>\n",
       "      <td>10.2</td>\n",
       "      <td>14.8</td>\n",
       "      <td>14.8</td>\n",
       "      <td>...</td>\n",
       "      <td>14.8</td>\n",
       "      <td>9.0</td>\n",
       "      <td>9.0</td>\n",
       "      <td>12.0</td>\n",
       "      <td>8.0</td>\n",
       "      <td>8.0</td>\n",
       "      <td>12.0</td>\n",
       "      <td>16.0</td>\n",
       "      <td>14.8</td>\n",
       "      <td>16.0</td>\n",
       "    </tr>\n",
       "    <tr>\n",
       "      <th>3</th>\n",
       "      <td>4.0</td>\n",
       "      <td>4.8</td>\n",
       "      <td>4.2</td>\n",
       "      <td>3.0</td>\n",
       "      <td>3.0</td>\n",
       "      <td>14.8</td>\n",
       "      <td>5.6</td>\n",
       "      <td>5.1</td>\n",
       "      <td>4.0</td>\n",
       "      <td>9.6</td>\n",
       "      <td>...</td>\n",
       "      <td>6.8</td>\n",
       "      <td>4.2</td>\n",
       "      <td>6.0</td>\n",
       "      <td>4.2</td>\n",
       "      <td>6.8</td>\n",
       "      <td>5.4</td>\n",
       "      <td>9.0</td>\n",
       "      <td>9.6</td>\n",
       "      <td>9.6</td>\n",
       "      <td>9.6</td>\n",
       "    </tr>\n",
       "    <tr>\n",
       "      <th>4</th>\n",
       "      <td>14.8</td>\n",
       "      <td>7.4</td>\n",
       "      <td>11.1</td>\n",
       "      <td>10.2</td>\n",
       "      <td>12.0</td>\n",
       "      <td>16.0</td>\n",
       "      <td>14.8</td>\n",
       "      <td>10.2</td>\n",
       "      <td>16.0</td>\n",
       "      <td>14.8</td>\n",
       "      <td>...</td>\n",
       "      <td>14.8</td>\n",
       "      <td>8.1</td>\n",
       "      <td>10.2</td>\n",
       "      <td>10.2</td>\n",
       "      <td>10.8</td>\n",
       "      <td>7.4</td>\n",
       "      <td>12.0</td>\n",
       "      <td>14.8</td>\n",
       "      <td>14.8</td>\n",
       "      <td>16.0</td>\n",
       "    </tr>\n",
       "  </tbody>\n",
       "</table>\n",
       "<p>5 rows × 41 columns</p>\n",
       "</div>"
      ],
      "text/plain": [
       "   PH-121  HS-101  CY-105  HS-105/12  MT-111  CS-105  CS-106  EL-102  EE-119  \\\n",
       "0    10.8     2.8     5.1        6.0     5.1     5.6     4.0     5.1    10.8   \n",
       "1    16.0     2.0     4.2        3.0     8.1     8.0     4.0    12.0     5.6   \n",
       "2    16.0     6.0    12.0        8.1    10.2    16.0    10.8    10.2    14.8   \n",
       "3     4.0     4.8     4.2        3.0     3.0    14.8     5.6     5.1     4.0   \n",
       "4    14.8     7.4    11.1       10.2    12.0    16.0    14.8    10.2    16.0   \n",
       "\n",
       "   ME-107  ...  CS-306  CS-312  CS-317  CS-403  CS-421  CS-406  CS-414  \\\n",
       "0     6.8  ...     8.0     5.1     5.1     5.1     6.8     7.4    12.0   \n",
       "1     4.0  ...     4.0     4.2     3.0     6.0     4.0     7.4     8.1   \n",
       "2    14.8  ...    14.8     9.0     9.0    12.0     8.0     8.0    12.0   \n",
       "3     9.6  ...     6.8     4.2     6.0     4.2     6.8     5.4     9.0   \n",
       "4    14.8  ...    14.8     8.1    10.2    10.2    10.8     7.4    12.0   \n",
       "\n",
       "   CS-419  CS-423  CS-412  \n",
       "0     6.8    12.0    14.8  \n",
       "1     8.0     8.0    12.0  \n",
       "2    16.0    14.8    16.0  \n",
       "3     9.6     9.6     9.6  \n",
       "4    14.8    14.8    16.0  \n",
       "\n",
       "[5 rows x 41 columns]"
      ]
     },
     "execution_count": 11,
     "metadata": {},
     "output_type": "execute_result"
    }
   ],
   "source": [
    "#MULTIPLYING THE GRADE POINTS BY THEIR CREDIT HOURS\n",
    "fourcd=[0,5,6,8,9,10,13,18,19,20,21,25,30,31,35,38,39,40]\n",
    "thirdcd=[2,3,4,7,12,14,15,16,22,23,26,28,32,33,34,37]\n",
    "secondcd=[1,11,24,27,29,36]\n",
    "onecd=[17]\n",
    "for i in fourcd:\n",
    "  courses.iloc[:, i]=courses.iloc[:, i]*4\n",
    "for i in thirdcd:\n",
    "  courses.iloc[:, i]=courses.iloc[:, i]*3\n",
    "for i in secondcd:\n",
    "  courses.iloc[:, i]=courses.iloc[:, i]*2\n",
    "    \n",
    "courses.head()#PRINTS UPPER 5 ROWS IN THE DATA "
   ]
  },
  {
   "cell_type": "markdown",
   "id": "f0af4bf4",
   "metadata": {
    "id": "f0af4bf4"
   },
   "source": [
    "# MODEL 1 (USIGN ONLY FIRST YEAR GPs)\n"
   ]
  },
  {
   "cell_type": "code",
   "execution_count": 12,
   "id": "b71209b0",
   "metadata": {
    "executionInfo": {
     "elapsed": 47,
     "status": "aborted",
     "timestamp": 1656416680660,
     "user": {
      "displayName": "Javeria Zaman",
      "userId": "09828762585372323680"
     },
     "user_tz": -300
    },
    "id": "b71209b0"
   },
   "outputs": [],
   "source": [
    "import matplotlib.pyplot as plt\n",
    "import seaborn as sns\n",
    "\n",
    "from sklearn.linear_model import LinearRegression\n",
    "from sklearn.model_selection import train_test_split\n"
   ]
  },
  {
   "cell_type": "code",
   "execution_count": 13,
   "id": "nYrSSN0eWAQb",
   "metadata": {
    "executionInfo": {
     "elapsed": 48,
     "status": "aborted",
     "timestamp": 1656416680661,
     "user": {
      "displayName": "Javeria Zaman",
      "userId": "09828762585372323680"
     },
     "user_tz": -300
    },
    "id": "nYrSSN0eWAQb"
   },
   "outputs": [],
   "source": [
    "#SEPARATING THE COURSES OF FIRST YEAR FOR MODEL 1 from data\n",
    "first_year=courses.iloc[:, 0:11]"
   ]
  },
  {
   "cell_type": "code",
   "execution_count": 14,
   "id": "64d6f232",
   "metadata": {
    "executionInfo": {
     "elapsed": 49,
     "status": "aborted",
     "timestamp": 1656416680662,
     "user": {
      "displayName": "Javeria Zaman",
      "userId": "09828762585372323680"
     },
     "user_tz": -300
    },
    "id": "64d6f232",
    "scrolled": true
   },
   "outputs": [
    {
     "data": {
      "text/html": [
       "<div>\n",
       "<style scoped>\n",
       "    .dataframe tbody tr th:only-of-type {\n",
       "        vertical-align: middle;\n",
       "    }\n",
       "\n",
       "    .dataframe tbody tr th {\n",
       "        vertical-align: top;\n",
       "    }\n",
       "\n",
       "    .dataframe thead th {\n",
       "        text-align: right;\n",
       "    }\n",
       "</style>\n",
       "<table border=\"1\" class=\"dataframe\">\n",
       "  <thead>\n",
       "    <tr style=\"text-align: right;\">\n",
       "      <th></th>\n",
       "      <th>PH-121</th>\n",
       "      <th>HS-101</th>\n",
       "      <th>CY-105</th>\n",
       "      <th>HS-105/12</th>\n",
       "      <th>MT-111</th>\n",
       "      <th>CS-105</th>\n",
       "      <th>CS-106</th>\n",
       "      <th>EL-102</th>\n",
       "      <th>EE-119</th>\n",
       "      <th>ME-107</th>\n",
       "      <th>CS-107</th>\n",
       "    </tr>\n",
       "  </thead>\n",
       "  <tbody>\n",
       "    <tr>\n",
       "      <th>0</th>\n",
       "      <td>10.8</td>\n",
       "      <td>2.8</td>\n",
       "      <td>5.1</td>\n",
       "      <td>6.0</td>\n",
       "      <td>5.1</td>\n",
       "      <td>5.6</td>\n",
       "      <td>4.0</td>\n",
       "      <td>5.1</td>\n",
       "      <td>10.8</td>\n",
       "      <td>6.8</td>\n",
       "      <td>6.8</td>\n",
       "    </tr>\n",
       "    <tr>\n",
       "      <th>1</th>\n",
       "      <td>16.0</td>\n",
       "      <td>2.0</td>\n",
       "      <td>4.2</td>\n",
       "      <td>3.0</td>\n",
       "      <td>8.1</td>\n",
       "      <td>8.0</td>\n",
       "      <td>4.0</td>\n",
       "      <td>12.0</td>\n",
       "      <td>5.6</td>\n",
       "      <td>4.0</td>\n",
       "      <td>13.6</td>\n",
       "    </tr>\n",
       "    <tr>\n",
       "      <th>2</th>\n",
       "      <td>16.0</td>\n",
       "      <td>6.0</td>\n",
       "      <td>12.0</td>\n",
       "      <td>8.1</td>\n",
       "      <td>10.2</td>\n",
       "      <td>16.0</td>\n",
       "      <td>10.8</td>\n",
       "      <td>10.2</td>\n",
       "      <td>14.8</td>\n",
       "      <td>14.8</td>\n",
       "      <td>10.8</td>\n",
       "    </tr>\n",
       "    <tr>\n",
       "      <th>3</th>\n",
       "      <td>4.0</td>\n",
       "      <td>4.8</td>\n",
       "      <td>4.2</td>\n",
       "      <td>3.0</td>\n",
       "      <td>3.0</td>\n",
       "      <td>14.8</td>\n",
       "      <td>5.6</td>\n",
       "      <td>5.1</td>\n",
       "      <td>4.0</td>\n",
       "      <td>9.6</td>\n",
       "      <td>4.0</td>\n",
       "    </tr>\n",
       "    <tr>\n",
       "      <th>4</th>\n",
       "      <td>14.8</td>\n",
       "      <td>7.4</td>\n",
       "      <td>11.1</td>\n",
       "      <td>10.2</td>\n",
       "      <td>12.0</td>\n",
       "      <td>16.0</td>\n",
       "      <td>14.8</td>\n",
       "      <td>10.2</td>\n",
       "      <td>16.0</td>\n",
       "      <td>14.8</td>\n",
       "      <td>8.0</td>\n",
       "    </tr>\n",
       "  </tbody>\n",
       "</table>\n",
       "</div>"
      ],
      "text/plain": [
       "   PH-121  HS-101  CY-105  HS-105/12  MT-111  CS-105  CS-106  EL-102  EE-119  \\\n",
       "0    10.8     2.8     5.1        6.0     5.1     5.6     4.0     5.1    10.8   \n",
       "1    16.0     2.0     4.2        3.0     8.1     8.0     4.0    12.0     5.6   \n",
       "2    16.0     6.0    12.0        8.1    10.2    16.0    10.8    10.2    14.8   \n",
       "3     4.0     4.8     4.2        3.0     3.0    14.8     5.6     5.1     4.0   \n",
       "4    14.8     7.4    11.1       10.2    12.0    16.0    14.8    10.2    16.0   \n",
       "\n",
       "   ME-107  CS-107  \n",
       "0     6.8     6.8  \n",
       "1     4.0    13.6  \n",
       "2    14.8    10.8  \n",
       "3     9.6     4.0  \n",
       "4    14.8     8.0  "
      ]
     },
     "execution_count": 14,
     "metadata": {},
     "output_type": "execute_result"
    }
   ],
   "source": [
    "first_year.head()#PRINTS UPPER 5 ROWS IN THE DATA "
   ]
  },
  {
   "cell_type": "code",
   "execution_count": 15,
   "id": "f6f69820",
   "metadata": {
    "executionInfo": {
     "elapsed": 50,
     "status": "aborted",
     "timestamp": 1656416680664,
     "user": {
      "displayName": "Javeria Zaman",
      "userId": "09828762585372323680"
     },
     "user_tz": -300
    },
    "id": "f6f69820"
   },
   "outputs": [],
   "source": [
    "#SPLITTING THE DATASET INTO TRAINING AND TESTING PART\n",
    "from sklearn.model_selection import train_test_split\n",
    "X_train, X_test, y_train, y_test = train_test_split(first_year,output,test_size=0.2)\n",
    "\n"
   ]
  },
  {
   "cell_type": "code",
   "execution_count": 16,
   "id": "4ebe5757",
   "metadata": {
    "executionInfo": {
     "elapsed": 53,
     "status": "aborted",
     "timestamp": 1656416680667,
     "user": {
      "displayName": "Javeria Zaman",
      "userId": "09828762585372323680"
     },
     "user_tz": -300
    },
    "id": "4ebe5757"
   },
   "outputs": [
    {
     "data": {
      "text/plain": [
       "456"
      ]
     },
     "execution_count": 16,
     "metadata": {},
     "output_type": "execute_result"
    }
   ],
   "source": [
    "len(X_train)"
   ]
  },
  {
   "cell_type": "code",
   "execution_count": 17,
   "id": "7473efad",
   "metadata": {
    "executionInfo": {
     "elapsed": 55,
     "status": "aborted",
     "timestamp": 1656416680669,
     "user": {
      "displayName": "Javeria Zaman",
      "userId": "09828762585372323680"
     },
     "user_tz": -300
    },
    "id": "7473efad"
   },
   "outputs": [
    {
     "data": {
      "text/plain": [
       "115"
      ]
     },
     "execution_count": 17,
     "metadata": {},
     "output_type": "execute_result"
    }
   ],
   "source": [
    "len(X_test)\n"
   ]
  },
  {
   "cell_type": "code",
   "execution_count": 18,
   "id": "2242f2f2",
   "metadata": {},
   "outputs": [
    {
     "data": {
      "text/plain": [
       "array([[<AxesSubplot:title={'center':'PH-121'}>,\n",
       "        <AxesSubplot:title={'center':'HS-101'}>,\n",
       "        <AxesSubplot:title={'center':'CY-105'}>],\n",
       "       [<AxesSubplot:title={'center':'HS-105/12'}>,\n",
       "        <AxesSubplot:title={'center':'MT-111'}>,\n",
       "        <AxesSubplot:title={'center':'CS-105'}>],\n",
       "       [<AxesSubplot:title={'center':'CS-106'}>,\n",
       "        <AxesSubplot:title={'center':'EL-102'}>,\n",
       "        <AxesSubplot:title={'center':'EE-119'}>],\n",
       "       [<AxesSubplot:title={'center':'ME-107'}>,\n",
       "        <AxesSubplot:title={'center':'CS-107'}>, <AxesSubplot:>]],\n",
       "      dtype=object)"
      ]
     },
     "execution_count": 18,
     "metadata": {},
     "output_type": "execute_result"
    },
    {
     "data": {
      "image/png": "[encoded data removed]",
      "text/plain": [
       "<Figure size 1440x1080 with 12 Axes>"
      ]
     },
     "metadata": {
      "needs_background": "light"
     },
     "output_type": "display_data"
    }
   ],
   "source": [
    "first_year.hist(bins=50, figsize=(20, 15)) #It shows each course's GPA effect on CGPA"
   ]
  },
  {
   "cell_type": "markdown",
   "id": "THx06Eb4aBOE",
   "metadata": {
    "id": "THx06Eb4aBOE"
   },
   "source": [
    "### Linear Regression Model"
   ]
  },
  {
   "cell_type": "code",
   "execution_count": 19,
   "id": "0e33055c",
   "metadata": {
    "executionInfo": {
     "elapsed": 56,
     "status": "aborted",
     "timestamp": 1656416680670,
     "user": {
      "displayName": "Javeria Zaman",
      "userId": "09828762585372323680"
     },
     "user_tz": -300
    },
    "id": "0e33055c"
   },
   "outputs": [],
   "source": [
    "Linear_Regression_Model_model_1=LinearRegression()#calling the function of algorithm"
   ]
  },
  {
   "cell_type": "code",
   "execution_count": 20,
   "id": "b6211728",
   "metadata": {
    "executionInfo": {
     "elapsed": 57,
     "status": "aborted",
     "timestamp": 1656416680672,
     "user": {
      "displayName": "Javeria Zaman",
      "userId": "09828762585372323680"
     },
     "user_tz": -300
    },
    "id": "b6211728"
   },
   "outputs": [
    {
     "data": {
      "text/plain": [
       "LinearRegression()"
      ]
     },
     "execution_count": 20,
     "metadata": {},
     "output_type": "execute_result"
    }
   ],
   "source": [
    "Linear_Regression_Model_model_1.fit(X_train,y_train) #Then fit on our train inputs and outputs"
   ]
  },
  {
   "cell_type": "code",
   "execution_count": 21,
   "id": "65bb2faa",
   "metadata": {
    "executionInfo": {
     "elapsed": 56,
     "status": "aborted",
     "timestamp": 1656416680672,
     "user": {
      "displayName": "Javeria Zaman",
      "userId": "09828762585372323680"
     },
     "user_tz": -300
    },
    "id": "65bb2faa",
    "scrolled": true
   },
   "outputs": [
    {
     "data": {
      "text/plain": [
       "array([2.15570089, 2.6040885 , 2.44416452, 2.5569436 , 2.71508732,\n",
       "       2.74239317, 2.28199689, 3.67792819, 3.50252261, 3.14958035,\n",
       "       2.18588652, 1.94949175, 2.93403893, 2.67517378, 2.61220838,\n",
       "       3.15191812, 3.07867296, 3.58119985, 2.5295004 , 2.88475091,\n",
       "       3.15164468, 2.58627888, 3.42873268, 2.99255728, 3.09211015,\n",
       "       1.82162716, 2.34938002, 2.99989219, 3.422928  , 2.49903984,\n",
       "       2.12955162, 2.83118238, 3.37948973, 3.82030162, 3.29989971,\n",
       "       2.64191831, 3.68012419, 1.99835036, 2.65473628, 2.83849226,\n",
       "       1.58663245, 3.6724553 , 2.99104609, 3.3924432 , 3.21035232,\n",
       "       2.27094912, 2.72543046, 3.27553981, 3.57871126, 3.25527941,\n",
       "       3.5267161 , 3.57214086, 2.18150608, 2.81644944, 2.77871867,\n",
       "       3.01761725, 2.5646621 , 2.35537938, 3.80644112, 3.76096857,\n",
       "       3.25768722, 2.97267403, 3.69090426, 2.8663193 , 1.99022491,\n",
       "       3.63592215, 2.3236513 , 1.95486362, 3.18025373, 2.38402274,\n",
       "       0.71534426, 1.39330626, 3.23876189, 2.19609406, 2.8454059 ,\n",
       "       2.56961221, 3.22014088, 2.72560918, 2.58573604, 2.7528013 ,\n",
       "       1.89542947, 3.35732692, 2.89243999, 2.37372201, 1.76439114,\n",
       "       1.96859876, 2.90405602, 2.13626113, 3.45638004, 3.23655749,\n",
       "       2.28809781, 3.25524758, 0.72081631, 2.99098954, 2.04744604,\n",
       "       3.75201299, 3.61705682, 1.84262765, 3.21990088, 2.25404736,\n",
       "       2.89573741, 3.17729354, 2.53397044, 3.13737638, 3.32039722,\n",
       "       3.1528933 , 1.86494007, 2.41161328, 2.4685093 , 3.58938811,\n",
       "       2.89131402, 2.96584904, 3.38661138, 3.57691488, 3.5493424 ])"
      ]
     },
     "execution_count": 21,
     "metadata": {},
     "output_type": "execute_result"
    }
   ],
   "source": [
    "Predictions_of_Linear_Regression_model_1=Linear_Regression_Model_model_1.predict(X_test) #Try to predict(output) of test data\n",
    "Predictions_of_Linear_Regression_model_1"
   ]
  },
  {
   "cell_type": "code",
   "execution_count": 22,
   "id": "72931f90",
   "metadata": {},
   "outputs": [
    {
     "name": "stdout",
     "output_type": "stream",
     "text": [
      "Accuracy on training set: 0.852\n",
      "Accuracy on test set: 0.867\n"
     ]
    }
   ],
   "source": [
    "#For training and testing accuracy\n",
    "print(\"Accuracy on training set: {:.3f}\".format(Linear_Regression_Model_model_1.score(X_train,y_train)))\n",
    "print(\"Accuracy on test set: {:.3f}\".format(Linear_Regression_Model_model_1.score(X_test,y_test)))"
   ]
  },
  {
   "cell_type": "markdown",
   "id": "XVFCWX4IbtZZ",
   "metadata": {
    "id": "XVFCWX4IbtZZ"
   },
   "source": [
    "### Evaluating The Model"
   ]
  },
  {
   "cell_type": "code",
   "execution_count": 23,
   "id": "NDZMb7U3bzm9",
   "metadata": {
    "executionInfo": {
     "elapsed": 56,
     "status": "aborted",
     "timestamp": 1656416680673,
     "user": {
      "displayName": "Javeria Zaman",
      "userId": "09828762585372323680"
     },
     "user_tz": -300
    },
    "id": "NDZMb7U3bzm9"
   },
   "outputs": [
    {
     "data": {
      "text/plain": [
       "0.229575375924774"
      ]
     },
     "execution_count": 23,
     "metadata": {},
     "output_type": "execute_result"
    }
   ],
   "source": [
    "#calculate rmse to find error in model. Less rmse good model\n",
    "from sklearn.metrics import mean_squared_error\n",
    "mse=mean_squared_error(y_test,Predictions_of_Linear_Regression_model_1)\n",
    "rmse_of_Linear_Regression_1_model_1=np.sqrt(mse)\n",
    "rmse_of_Linear_Regression_1_model_1"
   ]
  },
  {
   "cell_type": "code",
   "execution_count": 24,
   "id": "rAhJjjv2dNT_",
   "metadata": {
    "executionInfo": {
     "elapsed": 56,
     "status": "aborted",
     "timestamp": 1656416680674,
     "user": {
      "displayName": "Javeria Zaman",
      "userId": "09828762585372323680"
     },
     "user_tz": -300
    },
    "id": "rAhJjjv2dNT_"
   },
   "outputs": [
    {
     "data": {
      "text/plain": [
       "array([0.16047647, 0.29686339, 0.29423568, 0.22535339, 0.25006308,\n",
       "       0.27855932, 0.27863164, 0.28412677, 0.15034415, 0.15953221])"
      ]
     },
     "execution_count": 24,
     "metadata": {},
     "output_type": "execute_result"
    }
   ],
   "source": [
    "#Try cross validation to overcome overfitting if happens and then take rmse for every round in cross validation\n",
    "from sklearn.model_selection import cross_val_score\n",
    "cross_value_1=cross_val_score(Linear_Regression_Model_model_1, X_test,y_test,scoring=\"neg_mean_squared_error\" ,cv=10)\n",
    "rmse_of_Linear_Regression_model_1=np.sqrt(-cross_value_1)\n",
    "rmse_of_Linear_Regression_model_1"
   ]
  },
  {
   "cell_type": "code",
   "execution_count": 25,
   "id": "4d3252bb",
   "metadata": {},
   "outputs": [
    {
     "data": {
      "text/plain": [
       "0.8671028748775789"
      ]
     },
     "execution_count": 25,
     "metadata": {},
     "output_type": "execute_result"
    }
   ],
   "source": [
    "#calculate r^2 metric to find accuracy in model. More its value more better model\n",
    "from sklearn.metrics import r2_score\n",
    "r2_score1=r2_score(y_test,Predictions_of_Linear_Regression_model_1)\n",
    "r2_score1"
   ]
  },
  {
   "cell_type": "markdown",
   "id": "rSGnbM3PaNU3",
   "metadata": {
    "id": "rSGnbM3PaNU3"
   },
   "source": [
    "### Random Forest"
   ]
  },
  {
   "cell_type": "code",
   "execution_count": 26,
   "id": "gpzL4a3ZaTD7",
   "metadata": {
    "executionInfo": {
     "elapsed": 56,
     "status": "aborted",
     "timestamp": 1656416680674,
     "user": {
      "displayName": "Javeria Zaman",
      "userId": "09828762585372323680"
     },
     "user_tz": -300
    },
    "id": "gpzL4a3ZaTD7"
   },
   "outputs": [],
   "source": [
    "from sklearn.ensemble import RandomForestRegressor\n",
    "Random_Forest_Model_model_1=RandomForestRegressor()#calling the function of algorithm"
   ]
  },
  {
   "cell_type": "code",
   "execution_count": 27,
   "id": "kbLalRdsapy5",
   "metadata": {
    "executionInfo": {
     "elapsed": 56,
     "status": "aborted",
     "timestamp": 1656416680675,
     "user": {
      "displayName": "Javeria Zaman",
      "userId": "09828762585372323680"
     },
     "user_tz": -300
    },
    "id": "kbLalRdsapy5"
   },
   "outputs": [
    {
     "data": {
      "text/plain": [
       "RandomForestRegressor()"
      ]
     },
     "execution_count": 27,
     "metadata": {},
     "output_type": "execute_result"
    }
   ],
   "source": [
    "Random_Forest_Model_model_1.fit(X_train,y_train )#Then fit on our train inputs and outputs"
   ]
  },
  {
   "cell_type": "code",
   "execution_count": 28,
   "id": "pOkjGlstasLx",
   "metadata": {
    "executionInfo": {
     "elapsed": 56,
     "status": "aborted",
     "timestamp": 1656416680675,
     "user": {
      "displayName": "Javeria Zaman",
      "userId": "09828762585372323680"
     },
     "user_tz": -300
    },
    "id": "pOkjGlstasLx"
   },
   "outputs": [
    {
     "data": {
      "text/plain": [
       "array([2.36978   , 2.40396   , 2.3739    , 2.46878   , 2.47395   ,\n",
       "       2.88233   , 2.34691   , 3.63724   , 3.33362   , 3.18553   ,\n",
       "       2.29984   , 1.96339   , 2.83127   , 2.68398   , 2.80224   ,\n",
       "       3.03005   , 3.16551   , 3.60961   , 2.56572   , 2.85362   ,\n",
       "       3.09396   , 2.35997   , 3.5051    , 2.78182   , 3.04256   ,\n",
       "       1.92772   , 2.18448   , 2.86223   , 3.29211   , 2.45257   ,\n",
       "       2.15165   , 2.88234   , 3.43814   , 3.90788833, 3.38026   ,\n",
       "       2.98284   , 3.6607    , 2.09779   , 2.63426   , 2.81526   ,\n",
       "       1.78833   , 3.687606  , 3.08104   , 3.26676   , 3.16584   ,\n",
       "       2.06162   , 2.53552   , 3.27119   , 3.47975   , 3.4187    ,\n",
       "       3.56872   , 3.65519   , 2.2999    , 3.05649   , 2.54566   ,\n",
       "       3.0262    , 2.57367   , 2.30483   , 3.868305  , 3.849815  ,\n",
       "       3.27242   , 2.87319   , 3.51136   , 2.82107   , 2.05708   ,\n",
       "       3.62268   , 2.24085   , 2.2299    , 3.07376   , 2.30259   ,\n",
       "       1.23271   , 1.53591   , 3.02795   , 2.15552   , 3.04621   ,\n",
       "       2.3597    , 3.28386   , 2.71148   , 2.45234   , 2.99597   ,\n",
       "       1.92004   , 3.33591   , 2.74218   , 2.35939   , 2.01966   ,\n",
       "       2.19538   , 3.07211   , 2.22988   , 3.45913   , 3.17153   ,\n",
       "       2.2657    , 3.24904   , 1.24      , 3.1424    , 2.16273   ,\n",
       "       3.764315  , 3.72669   , 2.0835    , 3.13766   , 2.3944    ,\n",
       "       2.46991   , 2.6745    , 2.75486   , 3.05574   , 3.37917   ,\n",
       "       3.05339   , 2.06238   , 2.55793   , 2.56129   , 3.66284917,\n",
       "       2.94232   , 3.04516   , 3.2407    , 3.45837   , 3.57574   ])"
      ]
     },
     "execution_count": 28,
     "metadata": {},
     "output_type": "execute_result"
    }
   ],
   "source": [
    "Predictions_of_Random_Forest_model_1=Random_Forest_Model_model_1.predict(X_test)#Try to predict(output) of test data\n",
    "Predictions_of_Random_Forest_model_1"
   ]
  },
  {
   "cell_type": "code",
   "execution_count": 29,
   "id": "2e79c1d3",
   "metadata": {},
   "outputs": [
    {
     "name": "stdout",
     "output_type": "stream",
     "text": [
      "Accuracy on training set: 0.977\n",
      "Accuracy on test set: 0.870\n"
     ]
    }
   ],
   "source": [
    "#For training and testing accuracy\n",
    "print(\"Accuracy on training set: {:.3f}\".format(Random_Forest_Model_model_1.score(X_train,y_train)))\n",
    "print(\"Accuracy on test set: {:.3f}\".format(Random_Forest_Model_model_1.score(X_test,y_test)))"
   ]
  },
  {
   "cell_type": "code",
   "execution_count": null,
   "id": "4116a3c7",
   "metadata": {},
   "outputs": [],
   "source": []
  },
  {
   "cell_type": "markdown",
   "id": "unCwVtExenxX",
   "metadata": {
    "id": "unCwVtExenxX"
   },
   "source": [
    "### Evaluating The Model"
   ]
  },
  {
   "cell_type": "code",
   "execution_count": 30,
   "id": "JgRNG20YeyQu",
   "metadata": {
    "executionInfo": {
     "elapsed": 56,
     "status": "aborted",
     "timestamp": 1656416680676,
     "user": {
      "displayName": "Javeria Zaman",
      "userId": "09828762585372323680"
     },
     "user_tz": -300
    },
    "id": "JgRNG20YeyQu"
   },
   "outputs": [
    {
     "data": {
      "text/plain": [
       "0.2273183210020021"
      ]
     },
     "execution_count": 30,
     "metadata": {},
     "output_type": "execute_result"
    }
   ],
   "source": [
    "#calculate rmse to find error in model. Less rmse good model\n",
    "from sklearn.metrics import mean_squared_error\n",
    "mse=mean_squared_error(y_test,Predictions_of_Random_Forest_model_1)\n",
    "rmse_of_Random_Forest_1_model_1=np.sqrt(mse)\n",
    "rmse_of_Random_Forest_1_model_1"
   ]
  },
  {
   "cell_type": "code",
   "execution_count": 31,
   "id": "YzuVkCcVeyad",
   "metadata": {
    "executionInfo": {
     "elapsed": 57,
     "status": "aborted",
     "timestamp": 1656416680677,
     "user": {
      "displayName": "Javeria Zaman",
      "userId": "09828762585372323680"
     },
     "user_tz": -300
    },
    "id": "YzuVkCcVeyad"
   },
   "outputs": [
    {
     "data": {
      "text/plain": [
       "array([0.24894824, 0.29796692, 0.38745913, 0.2179979 , 0.31083448,\n",
       "       0.31306477, 0.36166807, 0.21792373, 0.26872587, 0.16706381])"
      ]
     },
     "execution_count": 31,
     "metadata": {},
     "output_type": "execute_result"
    }
   ],
   "source": [
    "#Try cross validation to overcome overfitting if happens and then take rmse for every round in cross validation\n",
    "from sklearn.model_selection import cross_val_score\n",
    "cross_value_2=cross_val_score(Random_Forest_Model_model_1, X_test,y_test,scoring=\"neg_mean_squared_error\" ,cv=10)\n",
    "rmse_of_Random_Forest_model_1=np.sqrt(-cross_value_2)\n",
    "rmse_of_Random_Forest_model_1"
   ]
  },
  {
   "cell_type": "code",
   "execution_count": 32,
   "id": "9fce9697",
   "metadata": {},
   "outputs": [
    {
     "data": {
      "text/plain": [
       "0.8697031677885982"
      ]
     },
     "execution_count": 32,
     "metadata": {},
     "output_type": "execute_result"
    }
   ],
   "source": [
    "#calculate r^2 metric to find accuracy in model. More its value more better model\n",
    "from sklearn.metrics import r2_score\n",
    "r2_score2=r2_score(y_test,Predictions_of_Random_Forest_model_1)\n",
    "r2_score2"
   ]
  },
  {
   "cell_type": "markdown",
   "id": "734b762f",
   "metadata": {},
   "source": [
    "### Interface"
   ]
  },
  {
   "cell_type": "code",
   "execution_count": 33,
   "id": "XG29BW5xLBGB",
   "metadata": {
    "colab": {
     "base_uri": "https://localhost:8080/"
    },
    "executionInfo": {
     "elapsed": 30664,
     "status": "ok",
     "timestamp": 1656417467640,
     "user": {
      "displayName": "Javeria Zaman",
      "userId": "09828762585372323680"
     },
     "user_tz": -300
    },
    "id": "XG29BW5xLBGB",
    "outputId": "ee4cd07d-1b48-4da7-af0a-8aa17d7a9677"
   },
   "outputs": [
    {
     "name": "stdout",
     "output_type": "stream",
     "text": [
      "Requirement already satisfied: gradio in d:\\new folder (2)\\lib\\site-packages (3.0.22)Note: you may need to restart the kernel to use updated packages.\n",
      "Requirement already satisfied: pydantic in d:\\new folder (2)\\lib\\site-packages (from gradio) (1.9.1)\n",
      "Requirement already satisfied: ffmpy in d:\\new folder (2)\\lib\\site-packages (from gradio) (0.3.0)\n",
      "Requirement already satisfied: uvicorn in d:\\new folder (2)\\lib\\site-packages (from gradio) (0.18.2)\n",
      "Requirement already satisfied: aiohttp in d:\\new folder (2)\\lib\\site-packages (from gradio) (3.8.1)\n",
      "Requirement already satisfied: markdown-it-py[linkify,plugins] in d:\\new folder (2)\\lib\\site-packages (from gradio) (2.1.0)\n",
      "Requirement already satisfied: python-multipart in d:\\new folder (2)\\lib\\site-packages (from gradio) (0.0.5)\n",
      "Requirement already satisfied: pandas in d:\\new folder (2)\\lib\\site-packages (from gradio) (1.4.2)\n",
      "Requirement already satisfied: pillow in d:\\new folder (2)\\lib\\site-packages (from gradio) (9.0.1)\n",
      "Requirement already satisfied: fastapi in d:\\new folder (2)\\lib\\site-packages (from gradio) (0.78.0)\n",
      "Requirement already satisfied: pydub in d:\\new folder (2)\\lib\\site-packages (from gradio) (0.25.1)\n",
      "Requirement already satisfied: Jinja2 in d:\\new folder (2)\\lib\\site-packages (from gradio) (3.1.2)\n",
      "Requirement already satisfied: fsspec in d:\\new folder (2)\\lib\\site-packages (from gradio) (2022.2.0)\n",
      "Requirement already satisfied: httpx in d:\\new folder (2)\\lib\\site-packages (from gradio) (0.23.0)\n",
      "Requirement already satisfied: pycryptodome in d:\\new folder (2)\\lib\\site-packages (from gradio) (3.15.0)\n",
      "Requirement already satisfied: analytics-python in d:\\new folder (2)\\lib\\site-packages (from gradio) (1.4.0)\n",
      "Requirement already satisfied: numpy in d:\\new folder (2)\\lib\\site-packages (from gradio) (1.21.5)\n",
      "Requirement already satisfied: orjson in d:\\new folder (2)\\lib\\site-packages (from gradio) (3.7.5)\n",
      "Requirement already satisfied: requests in d:\\new folder (2)\\lib\\site-packages (from gradio) (2.27.1)\n",
      "Requirement already satisfied: matplotlib in d:\\new folder (2)\\lib\\site-packages (from gradio) (3.5.1)\n",
      "Requirement already satisfied: paramiko in d:\\new folder (2)\\lib\\site-packages (from gradio) (2.8.1)\n",
      "Requirement already satisfied: attrs>=17.3.0 in d:\\new folder (2)\\lib\\site-packages (from aiohttp->gradio) (21.4.0)\n",
      "Requirement already satisfied: frozenlist>=1.1.1 in d:\\new folder (2)\\lib\\site-packages (from aiohttp->gradio) (1.2.0)\n",
      "Requirement already satisfied: charset-normalizer<3.0,>=2.0 in d:\\new folder (2)\\lib\\site-packages (from aiohttp->gradio) (2.0.4)\n",
      "Requirement already satisfied: async-timeout<5.0,>=4.0.0a3 in d:\\new folder (2)\\lib\\site-packages (from aiohttp->gradio) (4.0.1)\n",
      "Requirement already satisfied: aiosignal>=1.1.2 in d:\\new folder (2)\\lib\\site-packages (from aiohttp->gradio) (1.2.0)\n",
      "Requirement already satisfied: multidict<7.0,>=4.5 in d:\\new folder (2)\\lib\\site-packages (from aiohttp->gradio) (5.1.0)\n",
      "Requirement already satisfied: yarl<2.0,>=1.0 in d:\\new folder (2)\\lib\\site-packages (from aiohttp->gradio) (1.6.3)\n",
      "Requirement already satisfied: typing-extensions>=3.6.5 in d:\\new folder (2)\\lib\\site-packages (from async-timeout<5.0,>=4.0.0a3->aiohttp->gradio) (4.1.1)\n",
      "Requirement already satisfied: idna>=2.0 in d:\\new folder (2)\\lib\\site-packages (from yarl<2.0,>=1.0->aiohttp->gradio) (3.3)\n",
      "Requirement already satisfied: backoff==1.10.0 in d:\\new folder (2)\\lib\\site-packages (from analytics-python->gradio) (1.10.0)\n",
      "Requirement already satisfied: six>=1.5 in d:\\new folder (2)\\lib\\site-packages (from analytics-python->gradio) (1.16.0)\n",
      "Requirement already satisfied: monotonic>=1.5 in d:\\new folder (2)\\lib\\site-packages (from analytics-python->gradio) (1.6)\n",
      "Requirement already satisfied: python-dateutil>2.1 in d:\\new folder (2)\\lib\\site-packages (from analytics-python->gradio) (2.8.2)\n",
      "Requirement already satisfied: certifi>=2017.4.17 in d:\\new folder (2)\\lib\\site-packages (from requests->gradio) (2021.10.8)\n",
      "Requirement already satisfied: urllib3<1.27,>=1.21.1 in d:\\new folder (2)\\lib\\site-packages (from requests->gradio) (1.26.9)\n",
      "Requirement already satisfied: starlette==0.19.1 in d:\\new folder (2)\\lib\\site-packages (from fastapi->gradio) (0.19.1)\n",
      "Requirement already satisfied: anyio<5,>=3.4.0 in d:\\new folder (2)\\lib\\site-packages (from starlette==0.19.1->fastapi->gradio) (3.5.0)\n",
      "Requirement already satisfied: sniffio>=1.1 in d:\\new folder (2)\\lib\\site-packages (from anyio<5,>=3.4.0->starlette==0.19.1->fastapi->gradio) (1.2.0)\n",
      "Requirement already satisfied: rfc3986[idna2008]<2,>=1.3 in d:\\new folder (2)\\lib\\site-packages (from httpx->gradio) (1.5.0)\n",
      "Requirement already satisfied: httpcore<0.16.0,>=0.15.0 in d:\\new folder (2)\\lib\\site-packages (from httpx->gradio) (0.15.0)\n",
      "Requirement already satisfied: h11<0.13,>=0.11 in d:\\new folder (2)\\lib\\site-packages (from httpcore<0.16.0,>=0.15.0->httpx->gradio) (0.12.0)\n",
      "Requirement already satisfied: MarkupSafe>=2.0 in d:\\new folder (2)\\lib\\site-packages (from Jinja2->gradio) (2.0.1)\n",
      "Requirement already satisfied: mdurl~=0.1 in d:\\new folder (2)\\lib\\site-packages (from markdown-it-py[linkify,plugins]->gradio) (0.1.1)\n",
      "Requirement already satisfied: mdit-py-plugins in d:\\new folder (2)\\lib\\site-packages (from markdown-it-py[linkify,plugins]->gradio) (0.3.0)\n",
      "Requirement already satisfied: linkify-it-py~=1.0 in d:\\new folder (2)\\lib\\site-packages (from markdown-it-py[linkify,plugins]->gradio) (1.0.3)\n",
      "Requirement already satisfied: uc-micro-py in d:\\new folder (2)\\lib\\site-packages (from linkify-it-py~=1.0->markdown-it-py[linkify,plugins]->gradio) (1.0.1)\n",
      "Requirement already satisfied: fonttools>=4.22.0 in d:\\new folder (2)\\lib\\site-packages (from matplotlib->gradio) (4.25.0)\n",
      "Requirement already satisfied: kiwisolver>=1.0.1 in d:\\new folder (2)\\lib\\site-packages (from matplotlib->gradio) (1.3.2)\n",
      "Requirement already satisfied: pyparsing>=2.2.1 in d:\\new folder (2)\\lib\\site-packages (from matplotlib->gradio) (3.0.4)\n",
      "Requirement already satisfied: cycler>=0.10 in d:\\new folder (2)\\lib\\site-packages (from matplotlib->gradio) (0.11.0)\n",
      "\n",
      "Requirement already satisfied: packaging>=20.0 in d:\\new folder (2)\\lib\\site-packages (from matplotlib->gradio) (21.3)\n",
      "Requirement already satisfied: pytz>=2020.1 in d:\\new folder (2)\\lib\\site-packages (from pandas->gradio) (2021.3)\n",
      "Requirement already satisfied: cryptography>=2.5 in d:\\new folder (2)\\lib\\site-packages (from paramiko->gradio) (3.4.8)\n",
      "Requirement already satisfied: bcrypt>=3.1.3 in d:\\new folder (2)\\lib\\site-packages (from paramiko->gradio) (3.2.0)\n",
      "Requirement already satisfied: pynacl>=1.0.1 in d:\\new folder (2)\\lib\\site-packages (from paramiko->gradio) (1.4.0)\n",
      "Requirement already satisfied: cffi>=1.1 in d:\\new folder (2)\\lib\\site-packages (from bcrypt>=3.1.3->paramiko->gradio) (1.15.0)\n",
      "Requirement already satisfied: pycparser in d:\\new folder (2)\\lib\\site-packages (from cffi>=1.1->bcrypt>=3.1.3->paramiko->gradio) (2.21)\n",
      "Requirement already satisfied: click>=7.0 in d:\\new folder (2)\\lib\\site-packages (from uvicorn->gradio) (8.0.4)\n",
      "Requirement already satisfied: colorama in d:\\new folder (2)\\lib\\site-packages (from click>=7.0->uvicorn->gradio) (0.4.4)\n"
     ]
    }
   ],
   "source": [
    "pip install gradio"
   ]
  },
  {
   "cell_type": "code",
   "execution_count": 34,
   "id": "shSZvv_rfMNz",
   "metadata": {
    "executionInfo": {
     "elapsed": 2122,
     "status": "ok",
     "timestamp": 1656417493303,
     "user": {
      "displayName": "Javeria Zaman",
      "userId": "09828762585372323680"
     },
     "user_tz": -300
    },
    "id": "shSZvv_rfMNz"
   },
   "outputs": [],
   "source": [
    "import gradio as gr"
   ]
  },
  {
   "cell_type": "code",
   "execution_count": 35,
   "id": "fYeOiyXBK_XX",
   "metadata": {
    "id": "fYeOiyXBK_XX"
   },
   "outputs": [],
   "source": [
    "def CGPA_1st(PH_121 ,HS_101 ,CY_105 ,HS_105_12 ,MT_111 ,CS_105 ,CS_106 ,EL_102 ,EE_119 ,ME_107 ,CS_107):\n",
    "    user_input_model_1=np.array([PH_121 ,HS_101 ,CY_105 ,HS_105_12 ,MT_111 ,CS_105 ,CS_106 ,EL_102 ,EE_119 ,ME_107 ,CS_107])#Take user input of grades for each course\n",
    "    user_input_model_1=user_input_model_1.reshape(1,-1)#reshape it\n",
    "    user_input_model_1=pd.DataFrame(user_input_model_1)#Then convert into dataframe beacuse our model make predictions on dataframe\n",
    "    for i in range(0,11):\n",
    "            user_input_model_1[i]=user_input_model_1[i].map(AssignGPs)#Assign grades with their respective GP points\n",
    "    fourcd=[0,5,6,8,9,10]\n",
    "    thirdcd=[2,3,4,7]\n",
    "    secondcd=[1]\n",
    "    for i in fourcd:\n",
    "        user_input_model_1.iloc[:, i]=user_input_model_1.iloc[:, i]*4 #multiplying with respective credit_hour(4 credit hour)\n",
    "    for i in thirdcd:\n",
    "        user_input_model_1.iloc[:, i]=user_input_model_1.iloc[:, i]*3 #multiplying with respective credit_hour(3 credit hour)\n",
    "    for i in secondcd:\n",
    "        user_input_model_1.iloc[:, i]=user_input_model_1.iloc[:, i]*2 #multiplying with respective credit_hour(2 credit hour)\n",
    "    user_predictions_model_1=Linear_Regression_Model_model_1.predict(user_input_model_1) #Make prediction or give predicted output\n",
    "    return user_predictions_model_1\n",
    "\n",
    "           \n",
    "\n"
   ]
  },
  {
   "cell_type": "markdown",
   "id": "0b4430b4",
   "metadata": {
    "id": "a_IOXijJK7bw"
   },
   "source": []
  },
  {
   "cell_type": "code",
   "execution_count": 36,
   "id": "49ney-zCK-1H",
   "metadata": {
    "id": "49ney-zCK-1H"
   },
   "outputs": [],
   "source": [
    "#Interface function\n",
    "first_year_model=gr.Interface(CGPA_1st, inputs=[\"text\",\"text\",\"text\",\"text\",\"text\",\"text\",\"text\",\"text\",\"text\",\"text\",\"text\"],\n",
    "                       outputs=\"number\",description=\"Predict CGPA Using First Year Marks Only And Please Write Grades in Uppercase letters\")\n",
    "\n",
    "\n"
   ]
  },
  {
   "cell_type": "code",
   "execution_count": null,
   "id": "da4f3497",
   "metadata": {},
   "outputs": [],
   "source": []
  },
  {
   "cell_type": "code",
   "execution_count": 37,
   "id": "5c8ff6b2",
   "metadata": {},
   "outputs": [
    {
     "data": {
      "image/png": "[encoded data removed]",
      "text/plain": [
       "<Figure size 432x288 with 1 Axes>"
      ]
     },
     "metadata": {
      "needs_background": "light"
     },
     "output_type": "display_data"
    }
   ],
   "source": [
    "#For comparision between 2 models on basis of croos validation\n",
    "results=[]\n",
    "results.append(-cross_value_1)\n",
    "results.append(-cross_value_2)\n",
    "models=[('LR1',Linear_Regression_Model_model_1),('RF1',Random_Forest_Model_model_1) ]\n",
    "\n",
    "scoring='accuracy'\n",
    "names=[]\n",
    "for name,model in models:\n",
    "    names.append(name)\n",
    "#Boxplot Algorithm Comparison\n",
    "fig=plt.figure()\n",
    "fig.suptitle('Comparison between  the models')\n",
    "ax=fig.add_subplot(111)\n",
    "plt.boxplot(results)\n",
    "ax.set_xticklabels(names)\n",
    "plt.show()"
   ]
  },
  {
   "cell_type": "code",
   "execution_count": null,
   "id": "aaf49532",
   "metadata": {},
   "outputs": [],
   "source": []
  },
  {
   "cell_type": "markdown",
   "id": "fdebdd58",
   "metadata": {},
   "source": [
    "# MODEL 2 (USIGN  FIRST YEAR AND SECOND YEAR GPs)"
   ]
  },
  {
   "cell_type": "code",
   "execution_count": 38,
   "id": "e9dfaa70",
   "metadata": {},
   "outputs": [],
   "source": [
    "second_year=courses.iloc[:, 0:22] #SEPARATING THE COURSES OF FIRST YEAR  AND SECOND YEAR FOR MODEL 2 from data"
   ]
  },
  {
   "cell_type": "code",
   "execution_count": 39,
   "id": "e6831dc5",
   "metadata": {},
   "outputs": [
    {
     "data": {
      "text/html": [
       "<div>\n",
       "<style scoped>\n",
       "    .dataframe tbody tr th:only-of-type {\n",
       "        vertical-align: middle;\n",
       "    }\n",
       "\n",
       "    .dataframe tbody tr th {\n",
       "        vertical-align: top;\n",
       "    }\n",
       "\n",
       "    .dataframe thead th {\n",
       "        text-align: right;\n",
       "    }\n",
       "</style>\n",
       "<table border=\"1\" class=\"dataframe\">\n",
       "  <thead>\n",
       "    <tr style=\"text-align: right;\">\n",
       "      <th></th>\n",
       "      <th>PH-121</th>\n",
       "      <th>HS-101</th>\n",
       "      <th>CY-105</th>\n",
       "      <th>HS-105/12</th>\n",
       "      <th>MT-111</th>\n",
       "      <th>CS-105</th>\n",
       "      <th>CS-106</th>\n",
       "      <th>EL-102</th>\n",
       "      <th>EE-119</th>\n",
       "      <th>ME-107</th>\n",
       "      <th>...</th>\n",
       "      <th>MT-222</th>\n",
       "      <th>EE-222</th>\n",
       "      <th>MT-224</th>\n",
       "      <th>CS-210</th>\n",
       "      <th>CS-211</th>\n",
       "      <th>CS-203</th>\n",
       "      <th>CS-214</th>\n",
       "      <th>EE-217</th>\n",
       "      <th>CS-212</th>\n",
       "      <th>CS-215</th>\n",
       "    </tr>\n",
       "  </thead>\n",
       "  <tbody>\n",
       "    <tr>\n",
       "      <th>0</th>\n",
       "      <td>10.8</td>\n",
       "      <td>2.8</td>\n",
       "      <td>5.1</td>\n",
       "      <td>6.0</td>\n",
       "      <td>5.1</td>\n",
       "      <td>5.6</td>\n",
       "      <td>4.0</td>\n",
       "      <td>5.1</td>\n",
       "      <td>10.8</td>\n",
       "      <td>6.8</td>\n",
       "      <td>...</td>\n",
       "      <td>3.0</td>\n",
       "      <td>14.8</td>\n",
       "      <td>8.1</td>\n",
       "      <td>7.2</td>\n",
       "      <td>4.2</td>\n",
       "      <td>1.4</td>\n",
       "      <td>4.0</td>\n",
       "      <td>16.0</td>\n",
       "      <td>4.0</td>\n",
       "      <td>6.8</td>\n",
       "    </tr>\n",
       "    <tr>\n",
       "      <th>1</th>\n",
       "      <td>16.0</td>\n",
       "      <td>2.0</td>\n",
       "      <td>4.2</td>\n",
       "      <td>3.0</td>\n",
       "      <td>8.1</td>\n",
       "      <td>8.0</td>\n",
       "      <td>4.0</td>\n",
       "      <td>12.0</td>\n",
       "      <td>5.6</td>\n",
       "      <td>4.0</td>\n",
       "      <td>...</td>\n",
       "      <td>8.1</td>\n",
       "      <td>6.8</td>\n",
       "      <td>4.2</td>\n",
       "      <td>4.2</td>\n",
       "      <td>3.0</td>\n",
       "      <td>2.0</td>\n",
       "      <td>4.0</td>\n",
       "      <td>10.8</td>\n",
       "      <td>8.0</td>\n",
       "      <td>4.0</td>\n",
       "    </tr>\n",
       "    <tr>\n",
       "      <th>2</th>\n",
       "      <td>16.0</td>\n",
       "      <td>6.0</td>\n",
       "      <td>12.0</td>\n",
       "      <td>8.1</td>\n",
       "      <td>10.2</td>\n",
       "      <td>16.0</td>\n",
       "      <td>10.8</td>\n",
       "      <td>10.2</td>\n",
       "      <td>14.8</td>\n",
       "      <td>14.8</td>\n",
       "      <td>...</td>\n",
       "      <td>12.0</td>\n",
       "      <td>16.0</td>\n",
       "      <td>12.0</td>\n",
       "      <td>12.0</td>\n",
       "      <td>12.0</td>\n",
       "      <td>4.0</td>\n",
       "      <td>14.8</td>\n",
       "      <td>16.0</td>\n",
       "      <td>14.8</td>\n",
       "      <td>16.0</td>\n",
       "    </tr>\n",
       "    <tr>\n",
       "      <th>3</th>\n",
       "      <td>4.0</td>\n",
       "      <td>4.8</td>\n",
       "      <td>4.2</td>\n",
       "      <td>3.0</td>\n",
       "      <td>3.0</td>\n",
       "      <td>14.8</td>\n",
       "      <td>5.6</td>\n",
       "      <td>5.1</td>\n",
       "      <td>4.0</td>\n",
       "      <td>9.6</td>\n",
       "      <td>...</td>\n",
       "      <td>4.2</td>\n",
       "      <td>10.8</td>\n",
       "      <td>3.0</td>\n",
       "      <td>6.0</td>\n",
       "      <td>10.2</td>\n",
       "      <td>2.4</td>\n",
       "      <td>4.0</td>\n",
       "      <td>5.6</td>\n",
       "      <td>4.0</td>\n",
       "      <td>4.0</td>\n",
       "    </tr>\n",
       "    <tr>\n",
       "      <th>4</th>\n",
       "      <td>14.8</td>\n",
       "      <td>7.4</td>\n",
       "      <td>11.1</td>\n",
       "      <td>10.2</td>\n",
       "      <td>12.0</td>\n",
       "      <td>16.0</td>\n",
       "      <td>14.8</td>\n",
       "      <td>10.2</td>\n",
       "      <td>16.0</td>\n",
       "      <td>14.8</td>\n",
       "      <td>...</td>\n",
       "      <td>12.0</td>\n",
       "      <td>14.8</td>\n",
       "      <td>11.1</td>\n",
       "      <td>11.1</td>\n",
       "      <td>8.1</td>\n",
       "      <td>4.0</td>\n",
       "      <td>14.8</td>\n",
       "      <td>16.0</td>\n",
       "      <td>14.8</td>\n",
       "      <td>14.8</td>\n",
       "    </tr>\n",
       "  </tbody>\n",
       "</table>\n",
       "<p>5 rows × 22 columns</p>\n",
       "</div>"
      ],
      "text/plain": [
       "   PH-121  HS-101  CY-105  HS-105/12  MT-111  CS-105  CS-106  EL-102  EE-119  \\\n",
       "0    10.8     2.8     5.1        6.0     5.1     5.6     4.0     5.1    10.8   \n",
       "1    16.0     2.0     4.2        3.0     8.1     8.0     4.0    12.0     5.6   \n",
       "2    16.0     6.0    12.0        8.1    10.2    16.0    10.8    10.2    14.8   \n",
       "3     4.0     4.8     4.2        3.0     3.0    14.8     5.6     5.1     4.0   \n",
       "4    14.8     7.4    11.1       10.2    12.0    16.0    14.8    10.2    16.0   \n",
       "\n",
       "   ME-107  ...  MT-222  EE-222  MT-224  CS-210  CS-211  CS-203  CS-214  \\\n",
       "0     6.8  ...     3.0    14.8     8.1     7.2     4.2     1.4     4.0   \n",
       "1     4.0  ...     8.1     6.8     4.2     4.2     3.0     2.0     4.0   \n",
       "2    14.8  ...    12.0    16.0    12.0    12.0    12.0     4.0    14.8   \n",
       "3     9.6  ...     4.2    10.8     3.0     6.0    10.2     2.4     4.0   \n",
       "4    14.8  ...    12.0    14.8    11.1    11.1     8.1     4.0    14.8   \n",
       "\n",
       "   EE-217  CS-212  CS-215  \n",
       "0    16.0     4.0     6.8  \n",
       "1    10.8     8.0     4.0  \n",
       "2    16.0    14.8    16.0  \n",
       "3     5.6     4.0     4.0  \n",
       "4    16.0    14.8    14.8  \n",
       "\n",
       "[5 rows x 22 columns]"
      ]
     },
     "execution_count": 39,
     "metadata": {},
     "output_type": "execute_result"
    }
   ],
   "source": [
    "second_year.head()#PRINTS UPPER 5 ROWS IN THE DATA "
   ]
  },
  {
   "cell_type": "code",
   "execution_count": 40,
   "id": "d82bd578",
   "metadata": {},
   "outputs": [],
   "source": [
    "from sklearn.model_selection import train_test_split\n",
    "X_train, X_test, y_train, y_test = train_test_split(second_year,output,test_size=0.2) #SPLITTING THE DATASET INTO TRAINING AND TESTING PART\n",
    "\n"
   ]
  },
  {
   "cell_type": "code",
   "execution_count": 41,
   "id": "4a149764",
   "metadata": {},
   "outputs": [
    {
     "data": {
      "text/plain": [
       "456"
      ]
     },
     "execution_count": 41,
     "metadata": {},
     "output_type": "execute_result"
    }
   ],
   "source": [
    "len(X_train)"
   ]
  },
  {
   "cell_type": "code",
   "execution_count": 42,
   "id": "67f7e6e4",
   "metadata": {},
   "outputs": [
    {
     "data": {
      "text/plain": [
       "115"
      ]
     },
     "execution_count": 42,
     "metadata": {},
     "output_type": "execute_result"
    }
   ],
   "source": [
    "len(X_test)"
   ]
  },
  {
   "cell_type": "code",
   "execution_count": 43,
   "id": "ba63a0eb",
   "metadata": {},
   "outputs": [
    {
     "data": {
      "text/plain": [
       "array([[<AxesSubplot:title={'center':'PH-121'}>,\n",
       "        <AxesSubplot:title={'center':'HS-101'}>,\n",
       "        <AxesSubplot:title={'center':'CY-105'}>,\n",
       "        <AxesSubplot:title={'center':'HS-105/12'}>,\n",
       "        <AxesSubplot:title={'center':'MT-111'}>],\n",
       "       [<AxesSubplot:title={'center':'CS-105'}>,\n",
       "        <AxesSubplot:title={'center':'CS-106'}>,\n",
       "        <AxesSubplot:title={'center':'EL-102'}>,\n",
       "        <AxesSubplot:title={'center':'EE-119'}>,\n",
       "        <AxesSubplot:title={'center':'ME-107'}>],\n",
       "       [<AxesSubplot:title={'center':'CS-107'}>,\n",
       "        <AxesSubplot:title={'center':'HS-205/20'}>,\n",
       "        <AxesSubplot:title={'center':'MT-222'}>,\n",
       "        <AxesSubplot:title={'center':'EE-222'}>,\n",
       "        <AxesSubplot:title={'center':'MT-224'}>],\n",
       "       [<AxesSubplot:title={'center':'CS-210'}>,\n",
       "        <AxesSubplot:title={'center':'CS-211'}>,\n",
       "        <AxesSubplot:title={'center':'CS-203'}>,\n",
       "        <AxesSubplot:title={'center':'CS-214'}>,\n",
       "        <AxesSubplot:title={'center':'EE-217'}>],\n",
       "       [<AxesSubplot:title={'center':'CS-212'}>,\n",
       "        <AxesSubplot:title={'center':'CS-215'}>, <AxesSubplot:>,\n",
       "        <AxesSubplot:>, <AxesSubplot:>]], dtype=object)"
      ]
     },
     "execution_count": 43,
     "metadata": {},
     "output_type": "execute_result"
    },
    {
     "data": {
      "image/png": "[encoded data removed]",
      "text/plain": [
       "<Figure size 1440x1080 with 25 Axes>"
      ]
     },
     "metadata": {
      "needs_background": "light"
     },
     "output_type": "display_data"
    }
   ],
   "source": [
    "second_year.hist(bins=50, figsize=(20, 15)) #It shows each course's GPA effect on CGPA"
   ]
  },
  {
   "cell_type": "markdown",
   "id": "f54ff118",
   "metadata": {
    "id": "bz4ks9duazVU"
   },
   "source": [
    "### SVM Regressor"
   ]
  },
  {
   "cell_type": "code",
   "execution_count": 44,
   "id": "0fd117e2",
   "metadata": {},
   "outputs": [],
   "source": [
    "from sklearn.svm import SVR\n",
    "Support_Vector_Regressor_Model_model_2=SVR(kernel='linear') #calling the function of algorithm we used linear kernel because data is linearly separable"
   ]
  },
  {
   "cell_type": "code",
   "execution_count": 45,
   "id": "af7ab240",
   "metadata": {},
   "outputs": [
    {
     "data": {
      "text/plain": [
       "SVR(kernel='linear')"
      ]
     },
     "execution_count": 45,
     "metadata": {},
     "output_type": "execute_result"
    }
   ],
   "source": [
    "Support_Vector_Regressor_Model_model_2.fit(X_train,y_train) #Then fit on our train inputs and outputs"
   ]
  },
  {
   "cell_type": "code",
   "execution_count": 46,
   "id": "4d510214",
   "metadata": {},
   "outputs": [
    {
     "data": {
      "text/plain": [
       "array([2.78065928, 2.66580992, 2.05408279, 1.95062822, 2.42484756,\n",
       "       3.71970905, 2.25907319, 2.61941676, 3.23161138, 2.52011208,\n",
       "       2.41655073, 3.15074764, 2.91794097, 2.74573631, 2.73844109,\n",
       "       2.27880189, 2.76250378, 3.81087932, 2.71209866, 2.35871584,\n",
       "       3.17603941, 2.0829449 , 3.13305264, 2.89829885, 3.81742413,\n",
       "       2.17040706, 3.6130275 , 3.67910599, 2.51151663, 2.75792146,\n",
       "       3.23929126, 3.39200703, 0.56622322, 3.81038572, 3.44860686,\n",
       "       2.7990369 , 3.57435456, 3.3053694 , 3.77254237, 2.16531128,\n",
       "       2.27070682, 3.52801865, 3.78757709, 2.08027778, 2.74109331,\n",
       "       3.59732491, 3.25260176, 3.32941392, 3.68063045, 3.84046178,\n",
       "       2.57049693, 2.94424371, 3.65478719, 3.5566246 , 3.50518842,\n",
       "       3.69303152, 2.47202331, 2.84269275, 2.55410942, 1.97190977,\n",
       "       3.18624333, 2.6262094 , 2.91683856, 2.22954165, 3.79126542,\n",
       "       3.4877435 , 3.18247848, 1.98875365, 3.65452563, 3.54747946,\n",
       "       3.30539454, 2.76182674, 2.948057  , 3.09486215, 2.99420935,\n",
       "       2.78967345, 3.7662497 , 2.13739247, 3.42939867, 3.46524312,\n",
       "       3.34506194, 3.57816077, 2.45817024, 3.59247974, 2.60990039,\n",
       "       3.70433581, 3.85320718, 3.42373543, 2.97903595, 2.92267145,\n",
       "       3.03108034, 3.29641146, 2.15367761, 3.63194192, 2.40975145,\n",
       "       3.68593843, 3.2123207 , 2.50372471, 3.37332801, 1.9527639 ,\n",
       "       3.70951952, 3.19084187, 2.46666719, 1.40251473, 3.44405259,\n",
       "       2.05880813, 3.5266551 , 2.84259915, 2.2398173 , 3.03377216,\n",
       "       2.16049673, 2.9519887 , 2.49596351, 3.614748  , 3.286487  ])"
      ]
     },
     "execution_count": 46,
     "metadata": {},
     "output_type": "execute_result"
    }
   ],
   "source": [
    "Predictions_of_Support_Vector_Regressor_model_2=Support_Vector_Regressor_Model_model_2.predict(X_test) #Try to predict(output) of test data\n",
    "Predictions_of_Support_Vector_Regressor_model_2"
   ]
  },
  {
   "cell_type": "code",
   "execution_count": 47,
   "id": "ab7733ef",
   "metadata": {},
   "outputs": [
    {
     "name": "stdout",
     "output_type": "stream",
     "text": [
      "Accuracy on training set: 0.904\n",
      "Accuracy on test set: 0.947\n"
     ]
    }
   ],
   "source": [
    "#For training and testing accuracy\n",
    "print(\"Accuracy on training set: {:.3f}\".format(Support_Vector_Regressor_Model_model_2.score(X_train,y_train)))\n",
    "print(\"Accuracy on test set: {:.3f}\".format(Support_Vector_Regressor_Model_model_2.score(X_test,y_test)))"
   ]
  },
  {
   "cell_type": "code",
   "execution_count": null,
   "id": "0e867d03",
   "metadata": {},
   "outputs": [],
   "source": []
  },
  {
   "cell_type": "markdown",
   "id": "af70c274",
   "metadata": {
    "id": "pRAT2hu9e_zD"
   },
   "source": [
    "### Evaluating The Model"
   ]
  },
  {
   "cell_type": "code",
   "execution_count": 48,
   "id": "e41e13ab",
   "metadata": {
    "executionInfo": {
     "elapsed": 610,
     "status": "aborted",
     "timestamp": 1656416681232,
     "user": {
      "displayName": "Javeria Zaman",
      "userId": "09828762585372323680"
     },
     "user_tz": -300
    },
    "id": "IfnOiGhKfEkk"
   },
   "outputs": [
    {
     "data": {
      "text/plain": [
       "0.1499311604004541"
      ]
     },
     "execution_count": 48,
     "metadata": {},
     "output_type": "execute_result"
    }
   ],
   "source": [
    "#calculate rmse to find error in model . Less rmse good model\n",
    "from sklearn.metrics import mean_squared_error\n",
    "mse=mean_squared_error(y_test,Predictions_of_Support_Vector_Regressor_model_2)\n",
    "rmse_of_Support_Vector_Regressor_model_2=np.sqrt(mse)\n",
    "rmse_of_Support_Vector_Regressor_model_2"
   ]
  },
  {
   "cell_type": "code",
   "execution_count": 49,
   "id": "1440bfe8",
   "metadata": {
    "executionInfo": {
     "elapsed": 613,
     "status": "aborted",
     "timestamp": 1656416681235,
     "user": {
      "displayName": "Javeria Zaman",
      "userId": "09828762585372323680"
     },
     "user_tz": -300
    },
    "id": "Im4Ar17SfHrk"
   },
   "outputs": [
    {
     "data": {
      "text/plain": [
       "array([0.15321953, 0.14336894, 0.1944888 , 0.08877642, 0.1964054 ,\n",
       "       0.15397739, 0.13402555, 0.11015926, 0.12151655, 0.12494538])"
      ]
     },
     "execution_count": 49,
     "metadata": {},
     "output_type": "execute_result"
    }
   ],
   "source": [
    "#Try cross validation to overcome overfitting if happens and then take rmse for every round in cross validation\n",
    "from sklearn.model_selection import cross_val_score\n",
    "cross_value_3=cross_val_score(Support_Vector_Regressor_Model_model_2, X_test,y_test,scoring=\"neg_mean_squared_error\" ,cv=10)\n",
    "rmse_of_Support_Vector_Regressor_model_2=np.sqrt(-cross_value_3)\n",
    "rmse_of_Support_Vector_Regressor_model_2"
   ]
  },
  {
   "cell_type": "code",
   "execution_count": 50,
   "id": "2677a6ce",
   "metadata": {},
   "outputs": [
    {
     "data": {
      "text/plain": [
       "0.9469602301544632"
      ]
     },
     "execution_count": 50,
     "metadata": {},
     "output_type": "execute_result"
    }
   ],
   "source": [
    "#calculate r^2 metric to find accuracy in model. More its value more better model\n",
    "from sklearn.metrics import r2_score\n",
    "r2_score3=r2_score(y_test,Predictions_of_Support_Vector_Regressor_model_2)\n",
    "r2_score3"
   ]
  },
  {
   "cell_type": "markdown",
   "id": "12f27fc7",
   "metadata": {},
   "source": [
    "### KNN Regressor"
   ]
  },
  {
   "cell_type": "code",
   "execution_count": 51,
   "id": "14f841fb",
   "metadata": {},
   "outputs": [],
   "source": [
    "from sklearn.neighbors import KNeighborsRegressor\n",
    "#calling the function of algorithm and we used standard or more commonly used k value which is 5 because our dataset is not too large not \n",
    "KNeighborsRegressor_Model_model_2=KNeighborsRegressor(n_neighbors=5).fit(X_train, y_train)#Then fit on our train inputs and outputs"
   ]
  },
  {
   "cell_type": "code",
   "execution_count": 52,
   "id": "6c058cd1",
   "metadata": {
    "scrolled": true
   },
   "outputs": [
    {
     "data": {
      "text/plain": [
       "array([2.7596, 2.6736, 2.26  , 1.9074, 2.564 , 3.7764, 2.357 , 2.7596,\n",
       "       3.3748, 2.6306, 2.4778, 2.986 , 2.9278, 2.8352, 2.6446, 2.3288,\n",
       "       2.7024, 3.9546, 2.8904, 2.3854, 3.4474, 2.008 , 3.2002, 2.8838,\n",
       "       3.9318, 2.244 , 3.7646, 3.7934, 2.5682, 3.0564, 3.2574, 3.458 ,\n",
       "       1.1926, 3.9024, 3.6326, 2.8672, 3.5798, 3.3948, 3.8508, 2.299 ,\n",
       "       2.13  , 3.5748, 3.8552, 1.8712, 2.8018, 3.6794, 3.3532, 3.4554,\n",
       "       3.7266, 3.9238, 2.3544, 3.0598, 3.779 , 3.6338, 3.483 , 3.667 ,\n",
       "       2.6532, 3.0706, 2.9782, 2.0098, 3.1456, 2.7278, 2.971 , 2.1488,\n",
       "       3.9486, 3.6478, 3.3434, 1.7466, 3.74  , 3.5858, 3.3812, 2.753 ,\n",
       "       2.9834, 2.9796, 3.0752, 2.744 , 3.8794, 2.158 , 3.3874, 3.6004,\n",
       "       3.5226, 3.5928, 2.3502, 3.673 , 2.6458, 3.7868, 3.9592, 3.443 ,\n",
       "       3.1604, 2.9466, 3.0872, 3.2584, 2.1806, 3.6642, 2.3448, 3.742 ,\n",
       "       3.3282, 2.7242, 3.3616, 2.0354, 3.7768, 3.2418, 2.6298, 1.7372,\n",
       "       3.42  , 1.8476, 3.611 , 2.983 , 2.2596, 3.1614, 2.2048, 3.0986,\n",
       "       2.7472, 3.7532, 3.205 ])"
      ]
     },
     "execution_count": 52,
     "metadata": {},
     "output_type": "execute_result"
    }
   ],
   "source": [
    "Predictions_of_KNeighborsRegressor_model_2=KNeighborsRegressor_Model_model_2.predict(X_test)#Try to predict(output) of test data\n",
    "Predictions_of_KNeighborsRegressor_model_2"
   ]
  },
  {
   "cell_type": "code",
   "execution_count": 53,
   "id": "95733631",
   "metadata": {},
   "outputs": [
    {
     "name": "stdout",
     "output_type": "stream",
     "text": [
      "Accuracy on training set: 0.938\n",
      "Accuracy on test set: 0.911\n"
     ]
    }
   ],
   "source": [
    "#For training and testing accuracy\n",
    "print(\"Accuracy on training set: {:.3f}\".format(KNeighborsRegressor_Model_model_2.score(X_train,y_train)))\n",
    "print(\"Accuracy on test set: {:.3f}\".format(KNeighborsRegressor_Model_model_2.score(X_test,y_test)))"
   ]
  },
  {
   "cell_type": "code",
   "execution_count": null,
   "id": "d5d93d48",
   "metadata": {},
   "outputs": [],
   "source": []
  },
  {
   "cell_type": "markdown",
   "id": "138dc5c4",
   "metadata": {},
   "source": [
    "### Evaluating the model"
   ]
  },
  {
   "cell_type": "code",
   "execution_count": 54,
   "id": "4837c9c9",
   "metadata": {},
   "outputs": [
    {
     "data": {
      "text/plain": [
       "0.19462968002806275"
      ]
     },
     "execution_count": 54,
     "metadata": {},
     "output_type": "execute_result"
    }
   ],
   "source": [
    "#calculate rmse to find error in model . Less rmse good model\n",
    "from sklearn.metrics import mean_squared_error\n",
    "mse=mean_squared_error(y_test,Predictions_of_KNeighborsRegressor_model_2)\n",
    "rmse_of_KNeighborsRegressor_model_2=np.sqrt(mse)\n",
    "rmse_of_KNeighborsRegressor_model_2"
   ]
  },
  {
   "cell_type": "code",
   "execution_count": 55,
   "id": "e1ff6106",
   "metadata": {},
   "outputs": [
    {
     "data": {
      "text/plain": [
       "array([0.22398385, 0.19858288, 0.36298607, 0.17313476, 0.20691025,\n",
       "       0.2794531 , 0.18207738, 0.16801559, 0.20243131, 0.1509961 ])"
      ]
     },
     "execution_count": 55,
     "metadata": {},
     "output_type": "execute_result"
    }
   ],
   "source": [
    "#Try cross validation to overcome overfitting if happens and then take rmse for every round in cross validation\n",
    "from sklearn.model_selection import cross_val_score\n",
    "cross_value_4=cross_val_score(KNeighborsRegressor_Model_model_2, X_test,y_test,scoring=\"neg_mean_squared_error\" ,cv=10)\n",
    "rmse_of_KNeighborsRegressor_model_2=np.sqrt(-cross_value_4)\n",
    "rmse_of_KNeighborsRegressor_model_2"
   ]
  },
  {
   "cell_type": "code",
   "execution_count": 56,
   "id": "0a2ce790",
   "metadata": {},
   "outputs": [
    {
     "data": {
      "text/plain": [
       "0.9106209027851582"
      ]
     },
     "execution_count": 56,
     "metadata": {},
     "output_type": "execute_result"
    }
   ],
   "source": [
    "#calculate r^2 metric to find accuracy in model. More its value more better model\n",
    "from sklearn.metrics import r2_score\n",
    "r2_score4=r2_score(y_test,Predictions_of_KNeighborsRegressor_model_2)\n",
    "r2_score4"
   ]
  },
  {
   "cell_type": "markdown",
   "id": "17c879bc",
   "metadata": {},
   "source": [
    "### LINEAR REGRESSION(ONLY TO CHECK UNDERFITTING)"
   ]
  },
  {
   "cell_type": "code",
   "execution_count": 57,
   "id": "4b1a674c",
   "metadata": {},
   "outputs": [],
   "source": [
    "Linear_Regression_Model_model_2=LinearRegression()#calling the function of algorithm"
   ]
  },
  {
   "cell_type": "code",
   "execution_count": 58,
   "id": "3388241b",
   "metadata": {},
   "outputs": [
    {
     "data": {
      "text/plain": [
       "LinearRegression()"
      ]
     },
     "execution_count": 58,
     "metadata": {},
     "output_type": "execute_result"
    }
   ],
   "source": [
    "Linear_Regression_Model_model_2.fit(X_train,y_train) #Then fit on our train inputs and outputs"
   ]
  },
  {
   "cell_type": "code",
   "execution_count": 59,
   "id": "2ff697d8",
   "metadata": {},
   "outputs": [
    {
     "data": {
      "text/plain": [
       "array([2.74235321, 2.66729591, 1.99948019, 2.03621987, 2.49339071,\n",
       "       3.68027667, 2.24970045, 2.66461247, 3.23955937, 2.58133799,\n",
       "       2.48563974, 3.11490825, 2.93115007, 2.8329878 , 2.77577606,\n",
       "       2.2796276 , 2.87032592, 3.80057614, 2.84812519, 2.34946079,\n",
       "       3.15631595, 2.31573904, 3.06929934, 2.89211129, 3.80426423,\n",
       "       2.27468325, 3.60692809, 3.66163437, 2.53425917, 2.75306748,\n",
       "       3.22042794, 3.30859693, 0.69429353, 3.78749046, 3.41241952,\n",
       "       2.8244138 , 3.57618739, 3.25650468, 3.75380518, 2.17308319,\n",
       "       2.25638742, 3.53178057, 3.77658797, 2.10983234, 2.69999992,\n",
       "       3.53604991, 3.18969378, 3.33533609, 3.66840593, 3.86078079,\n",
       "       2.5397572 , 2.94801243, 3.63345088, 3.55019577, 3.46796986,\n",
       "       3.6449348 , 2.43377654, 2.87181294, 2.56490185, 1.97730485,\n",
       "       3.20557657, 2.64319158, 2.94557881, 2.36422117, 3.75729011,\n",
       "       3.472155  , 3.17186226, 1.97665918, 3.63897001, 3.51418134,\n",
       "       3.30041827, 2.78007556, 2.95899651, 3.1714692 , 2.94026993,\n",
       "       2.77959222, 3.7503926 , 2.21318639, 3.33132976, 3.40045974,\n",
       "       3.32182666, 3.5325943 , 2.53059509, 3.6208061 , 2.60199578,\n",
       "       3.70052588, 3.83199646, 3.44959249, 3.05650627, 2.98727038,\n",
       "       3.07098918, 3.35361347, 2.31459712, 3.66645342, 2.43308922,\n",
       "       3.71683656, 3.19288062, 2.53678533, 3.35470031, 1.91159118,\n",
       "       3.7093962 , 3.16189698, 2.44993219, 1.4209947 , 3.42139022,\n",
       "       1.94736873, 3.45455324, 2.89234941, 2.26668926, 3.03078914,\n",
       "       2.24814658, 2.86105177, 2.42170859, 3.51662807, 3.2990818 ])"
      ]
     },
     "execution_count": 59,
     "metadata": {},
     "output_type": "execute_result"
    }
   ],
   "source": [
    "Predictions_of_Linear_Regression_model_2=Linear_Regression_Model_model_2.predict(X_test) #Try to predict(output) of test data\n",
    "Predictions_of_Linear_Regression_model_2"
   ]
  },
  {
   "cell_type": "code",
   "execution_count": 60,
   "id": "ef9010ff",
   "metadata": {},
   "outputs": [
    {
     "name": "stdout",
     "output_type": "stream",
     "text": [
      "Accuracy on training set: 0.916\n",
      "Accuracy on test set: 0.931\n"
     ]
    }
   ],
   "source": [
    "#For training and testing accuracy\n",
    "print(\"Accuracy on training set: {:.3f}\".format(Linear_Regression_Model_model_2.score(X_train,y_train)))\n",
    "print(\"Accuracy on test set: {:.3f}\".format(Linear_Regression_Model_model_2.score(X_test,y_test)))"
   ]
  },
  {
   "cell_type": "code",
   "execution_count": null,
   "id": "2e0f4086",
   "metadata": {},
   "outputs": [],
   "source": []
  },
  {
   "cell_type": "markdown",
   "id": "072a080c",
   "metadata": {},
   "source": [
    "### Evaluating the Model"
   ]
  },
  {
   "cell_type": "code",
   "execution_count": 61,
   "id": "86dcd5b7",
   "metadata": {},
   "outputs": [
    {
     "data": {
      "text/plain": [
       "0.17059820439604534"
      ]
     },
     "execution_count": 61,
     "metadata": {},
     "output_type": "execute_result"
    }
   ],
   "source": [
    "#calculate rmse to find error in model. Less rmse good model\n",
    "from sklearn.metrics import mean_squared_error\n",
    "mse=mean_squared_error(y_test,Predictions_of_Linear_Regression_model_2)\n",
    "rmse_of_Linear_Regression_1_model_2=np.sqrt(mse)\n",
    "rmse_of_Linear_Regression_1_model_2"
   ]
  },
  {
   "cell_type": "code",
   "execution_count": 62,
   "id": "cfb4a46f",
   "metadata": {},
   "outputs": [
    {
     "data": {
      "text/plain": [
       "array([0.1691127 , 0.15494442, 0.20892479, 0.10417779, 0.20383119,\n",
       "       0.17037059, 0.13405444, 0.11313968, 0.10582977, 0.11283979])"
      ]
     },
     "execution_count": 62,
     "metadata": {},
     "output_type": "execute_result"
    }
   ],
   "source": [
    "#Try cross validation to overcome overfitting if happens and then take rmse for every round in cross validation\n",
    "from sklearn.model_selection import cross_val_score\n",
    "cross_value_1=cross_val_score(Linear_Regression_Model_model_2, X_test,y_test,scoring=\"neg_mean_squared_error\" ,cv=10)\n",
    "rmse_of_Linear_Regression_model_2=np.sqrt(-cross_value_1)\n",
    "rmse_of_Linear_Regression_model_2"
   ]
  },
  {
   "cell_type": "code",
   "execution_count": 63,
   "id": "e009eaf8",
   "metadata": {},
   "outputs": [
    {
     "data": {
      "text/plain": [
       "0.9313300489384985"
      ]
     },
     "execution_count": 63,
     "metadata": {},
     "output_type": "execute_result"
    }
   ],
   "source": [
    "#calculate r^2 metric to find accuracy in model. More its value more better model\n",
    "from sklearn.metrics import r2_score\n",
    "r2_score7=r2_score(y_test,Predictions_of_Linear_Regression_model_2)\n",
    "r2_score7"
   ]
  },
  {
   "cell_type": "markdown",
   "id": "356ab1c0",
   "metadata": {},
   "source": [
    "### Interface"
   ]
  },
  {
   "cell_type": "code",
   "execution_count": 64,
   "id": "7862a797",
   "metadata": {
    "id": "fYeOiyXBK_XX"
   },
   "outputs": [],
   "source": [
    "def CGPA_2nd(PH_121 ,HS_101 ,CY_105 ,HS_105_12 ,MT_111 ,CS_105 ,CS_106 ,EL_102 ,EE_119 ,ME_107 ,CS_107, HS_205_20 ,MT_222 ,EE_222 ,MT_224 ,CS_210 ,CS_211 ,CS_203 ,CS_214 ,EE_217 ,CS_212 ,CS_215 \n",
    "):\n",
    "    user_input_model_2=np.array([PH_121 ,HS_101 ,CY_105 ,HS_105_12 ,MT_111 ,CS_105 ,CS_106 ,EL_102 ,EE_119 ,ME_107 ,CS_107,HS_205_20 ,MT_222 ,EE_222 ,MT_224 ,CS_210 ,CS_211 ,CS_203 ,CS_214 ,EE_217 ,CS_212 ,CS_215]) #Take user input of grades for each course\n",
    "    user_input_model_2=user_input_model_2.reshape(1,-1)#reshape it\n",
    "    user_input_model_2=pd.DataFrame(user_input_model_2)#Then convert into dataframe beacuse our model make predictions on dataframe\n",
    "    for i in range(0,22):\n",
    "            user_input_model_2[i]=user_input_model_2[i].map(AssignGPs)#Assign grades with their respective GP points\n",
    "    fourcd=[0,5,6,8,9,10,13,18,19,20,21]\n",
    "    thirdcd=[2,3,4,7,12,14,15,16]\n",
    "    secondcd=[1,11]\n",
    "    onecd=[17]\n",
    "    for i in fourcd:\n",
    "        user_input_model_2.iloc[:, i]=user_input_model_2.iloc[:, i]*4 #multiplying with respective credit_hour(4 credit hour)\n",
    "    for i in thirdcd:\n",
    "        user_input_model_2.iloc[:, i]=user_input_model_2.iloc[:, i]*3 #multiplying with respective credit_hour(3 credit hour)\n",
    "    for i in secondcd:\n",
    "        user_input_model_2.iloc[:, i]=user_input_model_2.iloc[:, i]*2 #multiplying with respective credit_hour(2 credit hour)\n",
    "    user_predictions_model_2=KNeighborsRegressor_Model_model_2.predict(user_input_model_2)#Make prediction or give predicted output\n",
    "    return user_predictions_model_2\n",
    "\n",
    "           \n",
    " \n"
   ]
  },
  {
   "cell_type": "markdown",
   "id": "b764410f",
   "metadata": {
    "id": "a_IOXijJK7bw"
   },
   "source": []
  },
  {
   "cell_type": "code",
   "execution_count": 65,
   "id": "8913646a",
   "metadata": {
    "id": "49ney-zCK-1H"
   },
   "outputs": [],
   "source": [
    "#Interface function\n",
    "second_year_model=gr.Interface(CGPA_2nd, inputs=[\"text\",\"text\",\"text\",\"text\",\"text\",\"text\",\"text\",\"text\",\"text\",\"text\",\"text\",\"text\",\"text\",\"text\",\"text\",\"text\",\"text\",\"text\",\"text\",\"text\",\"text\",\"text\"],\n",
    "                       outputs=\"number\",description=\"Predict CGPA Using First Year And Second Year Marks And Please Write Grades in Uppercase letters\")\n",
    "\n",
    "\n"
   ]
  },
  {
   "cell_type": "code",
   "execution_count": 66,
   "id": "89d4aef5",
   "metadata": {},
   "outputs": [
    {
     "data": {
      "image/png": "[encoded data removed]",
      "text/plain": [
       "<Figure size 432x288 with 1 Axes>"
      ]
     },
     "metadata": {
      "needs_background": "light"
     },
     "output_type": "display_data"
    }
   ],
   "source": [
    "#For comparision between 2 models on basis of cross validation\n",
    "results=[]\n",
    "results.append(-cross_value_3)\n",
    "results.append(-cross_value_4)\n",
    "models=[('SVR2',Support_Vector_Regressor_Model_model_2),('KNN2',KNeighborsRegressor_Model_model_2)]\n",
    "scoring='accuracy'\n",
    "names=[]\n",
    "for name,model in models:\n",
    "    names.append(name)\n",
    "#Boxplot Algorithm Comparison\n",
    "fig=plt.figure()\n",
    "fig.suptitle('Comparison between  the models')\n",
    "ax=fig.add_subplot(111)\n",
    "plt.boxplot(results)\n",
    "ax.set_xticklabels(names)\n",
    "plt.show()"
   ]
  },
  {
   "cell_type": "code",
   "execution_count": null,
   "id": "c0f72475",
   "metadata": {},
   "outputs": [],
   "source": []
  },
  {
   "cell_type": "markdown",
   "id": "0fd701da",
   "metadata": {},
   "source": [
    "# MODEL 3 (USIGN  FIRST YEAR , SECOND YEAR AND THIRD YEAR GPs)"
   ]
  },
  {
   "cell_type": "code",
   "execution_count": 67,
   "id": "9b426200",
   "metadata": {},
   "outputs": [],
   "source": [
    "courses.rename(columns = {'MT-442':'MT_442'}, inplace = True)\n",
    "column_to_move=courses.pop(\"MT_442\")\n",
    "courses.insert(33, \"MT_442\", column_to_move)#There is a course of fourth year in third year data so we move it\n",
    "third_year=courses.iloc[:, 0:33] #SEPARATING THE COURSES OF FIRST YEAR, SECOND YEAR AND THIRD YEAR FOR MODEL 3 from data"
   ]
  },
  {
   "cell_type": "code",
   "execution_count": 68,
   "id": "ddec8825",
   "metadata": {},
   "outputs": [
    {
     "data": {
      "text/html": [
       "<div>\n",
       "<style scoped>\n",
       "    .dataframe tbody tr th:only-of-type {\n",
       "        vertical-align: middle;\n",
       "    }\n",
       "\n",
       "    .dataframe tbody tr th {\n",
       "        vertical-align: top;\n",
       "    }\n",
       "\n",
       "    .dataframe thead th {\n",
       "        text-align: right;\n",
       "    }\n",
       "</style>\n",
       "<table border=\"1\" class=\"dataframe\">\n",
       "  <thead>\n",
       "    <tr style=\"text-align: right;\">\n",
       "      <th></th>\n",
       "      <th>PH-121</th>\n",
       "      <th>HS-101</th>\n",
       "      <th>CY-105</th>\n",
       "      <th>HS-105/12</th>\n",
       "      <th>MT-111</th>\n",
       "      <th>CS-105</th>\n",
       "      <th>CS-106</th>\n",
       "      <th>EL-102</th>\n",
       "      <th>EE-119</th>\n",
       "      <th>ME-107</th>\n",
       "      <th>...</th>\n",
       "      <th>EF-303</th>\n",
       "      <th>HS-304</th>\n",
       "      <th>CS-301</th>\n",
       "      <th>CS-302</th>\n",
       "      <th>TC-383</th>\n",
       "      <th>EL-332</th>\n",
       "      <th>CS-318</th>\n",
       "      <th>CS-306</th>\n",
       "      <th>CS-312</th>\n",
       "      <th>CS-317</th>\n",
       "    </tr>\n",
       "  </thead>\n",
       "  <tbody>\n",
       "    <tr>\n",
       "      <th>0</th>\n",
       "      <td>10.8</td>\n",
       "      <td>2.8</td>\n",
       "      <td>5.1</td>\n",
       "      <td>6.0</td>\n",
       "      <td>5.1</td>\n",
       "      <td>5.6</td>\n",
       "      <td>4.0</td>\n",
       "      <td>5.1</td>\n",
       "      <td>10.8</td>\n",
       "      <td>6.8</td>\n",
       "      <td>...</td>\n",
       "      <td>5.1</td>\n",
       "      <td>4.8</td>\n",
       "      <td>12.0</td>\n",
       "      <td>6.0</td>\n",
       "      <td>4.8</td>\n",
       "      <td>4.0</td>\n",
       "      <td>6.8</td>\n",
       "      <td>8.0</td>\n",
       "      <td>5.1</td>\n",
       "      <td>5.1</td>\n",
       "    </tr>\n",
       "    <tr>\n",
       "      <th>1</th>\n",
       "      <td>16.0</td>\n",
       "      <td>2.0</td>\n",
       "      <td>4.2</td>\n",
       "      <td>3.0</td>\n",
       "      <td>8.1</td>\n",
       "      <td>8.0</td>\n",
       "      <td>4.0</td>\n",
       "      <td>12.0</td>\n",
       "      <td>5.6</td>\n",
       "      <td>4.0</td>\n",
       "      <td>...</td>\n",
       "      <td>3.0</td>\n",
       "      <td>3.4</td>\n",
       "      <td>14.8</td>\n",
       "      <td>4.2</td>\n",
       "      <td>3.4</td>\n",
       "      <td>4.0</td>\n",
       "      <td>14.8</td>\n",
       "      <td>4.0</td>\n",
       "      <td>4.2</td>\n",
       "      <td>3.0</td>\n",
       "    </tr>\n",
       "    <tr>\n",
       "      <th>2</th>\n",
       "      <td>16.0</td>\n",
       "      <td>6.0</td>\n",
       "      <td>12.0</td>\n",
       "      <td>8.1</td>\n",
       "      <td>10.2</td>\n",
       "      <td>16.0</td>\n",
       "      <td>10.8</td>\n",
       "      <td>10.2</td>\n",
       "      <td>14.8</td>\n",
       "      <td>14.8</td>\n",
       "      <td>...</td>\n",
       "      <td>7.2</td>\n",
       "      <td>8.0</td>\n",
       "      <td>13.6</td>\n",
       "      <td>11.1</td>\n",
       "      <td>6.0</td>\n",
       "      <td>6.8</td>\n",
       "      <td>14.8</td>\n",
       "      <td>14.8</td>\n",
       "      <td>9.0</td>\n",
       "      <td>9.0</td>\n",
       "    </tr>\n",
       "    <tr>\n",
       "      <th>3</th>\n",
       "      <td>4.0</td>\n",
       "      <td>4.8</td>\n",
       "      <td>4.2</td>\n",
       "      <td>3.0</td>\n",
       "      <td>3.0</td>\n",
       "      <td>14.8</td>\n",
       "      <td>5.6</td>\n",
       "      <td>5.1</td>\n",
       "      <td>4.0</td>\n",
       "      <td>9.6</td>\n",
       "      <td>...</td>\n",
       "      <td>3.0</td>\n",
       "      <td>5.4</td>\n",
       "      <td>4.0</td>\n",
       "      <td>8.1</td>\n",
       "      <td>2.8</td>\n",
       "      <td>2.8</td>\n",
       "      <td>13.6</td>\n",
       "      <td>6.8</td>\n",
       "      <td>4.2</td>\n",
       "      <td>6.0</td>\n",
       "    </tr>\n",
       "    <tr>\n",
       "      <th>4</th>\n",
       "      <td>14.8</td>\n",
       "      <td>7.4</td>\n",
       "      <td>11.1</td>\n",
       "      <td>10.2</td>\n",
       "      <td>12.0</td>\n",
       "      <td>16.0</td>\n",
       "      <td>14.8</td>\n",
       "      <td>10.2</td>\n",
       "      <td>16.0</td>\n",
       "      <td>14.8</td>\n",
       "      <td>...</td>\n",
       "      <td>5.1</td>\n",
       "      <td>7.4</td>\n",
       "      <td>10.8</td>\n",
       "      <td>11.1</td>\n",
       "      <td>4.8</td>\n",
       "      <td>7.4</td>\n",
       "      <td>10.8</td>\n",
       "      <td>14.8</td>\n",
       "      <td>8.1</td>\n",
       "      <td>10.2</td>\n",
       "    </tr>\n",
       "  </tbody>\n",
       "</table>\n",
       "<p>5 rows × 33 columns</p>\n",
       "</div>"
      ],
      "text/plain": [
       "   PH-121  HS-101  CY-105  HS-105/12  MT-111  CS-105  CS-106  EL-102  EE-119  \\\n",
       "0    10.8     2.8     5.1        6.0     5.1     5.6     4.0     5.1    10.8   \n",
       "1    16.0     2.0     4.2        3.0     8.1     8.0     4.0    12.0     5.6   \n",
       "2    16.0     6.0    12.0        8.1    10.2    16.0    10.8    10.2    14.8   \n",
       "3     4.0     4.8     4.2        3.0     3.0    14.8     5.6     5.1     4.0   \n",
       "4    14.8     7.4    11.1       10.2    12.0    16.0    14.8    10.2    16.0   \n",
       "\n",
       "   ME-107  ...  EF-303  HS-304  CS-301  CS-302  TC-383  EL-332  CS-318  \\\n",
       "0     6.8  ...     5.1     4.8    12.0     6.0     4.8     4.0     6.8   \n",
       "1     4.0  ...     3.0     3.4    14.8     4.2     3.4     4.0    14.8   \n",
       "2    14.8  ...     7.2     8.0    13.6    11.1     6.0     6.8    14.8   \n",
       "3     9.6  ...     3.0     5.4     4.0     8.1     2.8     2.8    13.6   \n",
       "4    14.8  ...     5.1     7.4    10.8    11.1     4.8     7.4    10.8   \n",
       "\n",
       "   CS-306  CS-312  CS-317  \n",
       "0     8.0     5.1     5.1  \n",
       "1     4.0     4.2     3.0  \n",
       "2    14.8     9.0     9.0  \n",
       "3     6.8     4.2     6.0  \n",
       "4    14.8     8.1    10.2  \n",
       "\n",
       "[5 rows x 33 columns]"
      ]
     },
     "execution_count": 68,
     "metadata": {},
     "output_type": "execute_result"
    }
   ],
   "source": [
    "third_year.head()#PRINTS UPPER 5 ROWS IN THE DATA "
   ]
  },
  {
   "cell_type": "code",
   "execution_count": 69,
   "id": "4271bb14",
   "metadata": {},
   "outputs": [],
   "source": [
    "from sklearn.model_selection import train_test_split\n",
    "X_train, X_test, y_train, y_test = train_test_split(third_year,output,test_size=0.2) #SPLITTING THE DATASET INTO TRAINING AND TESTING PART\n"
   ]
  },
  {
   "cell_type": "code",
   "execution_count": 70,
   "id": "3f5bb474",
   "metadata": {},
   "outputs": [
    {
     "data": {
      "text/plain": [
       "456"
      ]
     },
     "execution_count": 70,
     "metadata": {},
     "output_type": "execute_result"
    }
   ],
   "source": [
    "len(X_train)"
   ]
  },
  {
   "cell_type": "code",
   "execution_count": 71,
   "id": "ac83f2d8",
   "metadata": {},
   "outputs": [
    {
     "data": {
      "text/plain": [
       "115"
      ]
     },
     "execution_count": 71,
     "metadata": {},
     "output_type": "execute_result"
    }
   ],
   "source": [
    "len(X_test)"
   ]
  },
  {
   "cell_type": "code",
   "execution_count": 72,
   "id": "eebb4b2c",
   "metadata": {},
   "outputs": [
    {
     "data": {
      "text/plain": [
       "array([[<AxesSubplot:title={'center':'PH-121'}>,\n",
       "        <AxesSubplot:title={'center':'HS-101'}>,\n",
       "        <AxesSubplot:title={'center':'CY-105'}>,\n",
       "        <AxesSubplot:title={'center':'HS-105/12'}>,\n",
       "        <AxesSubplot:title={'center':'MT-111'}>,\n",
       "        <AxesSubplot:title={'center':'CS-105'}>],\n",
       "       [<AxesSubplot:title={'center':'CS-106'}>,\n",
       "        <AxesSubplot:title={'center':'EL-102'}>,\n",
       "        <AxesSubplot:title={'center':'EE-119'}>,\n",
       "        <AxesSubplot:title={'center':'ME-107'}>,\n",
       "        <AxesSubplot:title={'center':'CS-107'}>,\n",
       "        <AxesSubplot:title={'center':'HS-205/20'}>],\n",
       "       [<AxesSubplot:title={'center':'MT-222'}>,\n",
       "        <AxesSubplot:title={'center':'EE-222'}>,\n",
       "        <AxesSubplot:title={'center':'MT-224'}>,\n",
       "        <AxesSubplot:title={'center':'CS-210'}>,\n",
       "        <AxesSubplot:title={'center':'CS-211'}>,\n",
       "        <AxesSubplot:title={'center':'CS-203'}>],\n",
       "       [<AxesSubplot:title={'center':'CS-214'}>,\n",
       "        <AxesSubplot:title={'center':'EE-217'}>,\n",
       "        <AxesSubplot:title={'center':'CS-212'}>,\n",
       "        <AxesSubplot:title={'center':'CS-215'}>,\n",
       "        <AxesSubplot:title={'center':'MT-331'}>,\n",
       "        <AxesSubplot:title={'center':'EF-303'}>],\n",
       "       [<AxesSubplot:title={'center':'HS-304'}>,\n",
       "        <AxesSubplot:title={'center':'CS-301'}>,\n",
       "        <AxesSubplot:title={'center':'CS-302'}>,\n",
       "        <AxesSubplot:title={'center':'TC-383'}>,\n",
       "        <AxesSubplot:title={'center':'EL-332'}>,\n",
       "        <AxesSubplot:title={'center':'CS-318'}>],\n",
       "       [<AxesSubplot:title={'center':'CS-306'}>,\n",
       "        <AxesSubplot:title={'center':'CS-312'}>,\n",
       "        <AxesSubplot:title={'center':'CS-317'}>, <AxesSubplot:>,\n",
       "        <AxesSubplot:>, <AxesSubplot:>]], dtype=object)"
      ]
     },
     "execution_count": 72,
     "metadata": {},
     "output_type": "execute_result"
    },
    {
     "data": {
      "image/png": "[encoded data removed]",
      "text/plain": [
       "<Figure size 1440x1080 with 36 Axes>"
      ]
     },
     "metadata": {
      "needs_background": "light"
     },
     "output_type": "display_data"
    }
   ],
   "source": [
    "third_year.hist(bins=50, figsize=(20, 15))#It shows each course's GPA effect on CGPA"
   ]
  },
  {
   "cell_type": "markdown",
   "id": "98251663",
   "metadata": {
    "id": "rSGnbM3PaNU3"
   },
   "source": [
    "### Random Forest"
   ]
  },
  {
   "cell_type": "code",
   "execution_count": 73,
   "id": "21ca58b8",
   "metadata": {
    "executionInfo": {
     "elapsed": 56,
     "status": "aborted",
     "timestamp": 1656416680674,
     "user": {
      "displayName": "Javeria Zaman",
      "userId": "09828762585372323680"
     },
     "user_tz": -300
    },
    "id": "gpzL4a3ZaTD7"
   },
   "outputs": [],
   "source": [
    "from sklearn.ensemble import RandomForestRegressor\n",
    "Random_Forest_Model_model_3=RandomForestRegressor()#calling the function of algorithm"
   ]
  },
  {
   "cell_type": "code",
   "execution_count": 74,
   "id": "c7ca697a",
   "metadata": {
    "executionInfo": {
     "elapsed": 56,
     "status": "aborted",
     "timestamp": 1656416680675,
     "user": {
      "displayName": "Javeria Zaman",
      "userId": "09828762585372323680"
     },
     "user_tz": -300
    },
    "id": "kbLalRdsapy5"
   },
   "outputs": [
    {
     "data": {
      "text/plain": [
       "RandomForestRegressor()"
      ]
     },
     "execution_count": 74,
     "metadata": {},
     "output_type": "execute_result"
    }
   ],
   "source": [
    "Random_Forest_Model_model_3.fit(X_train,y_train) #Then fit on our train inputs and outputs"
   ]
  },
  {
   "cell_type": "code",
   "execution_count": 75,
   "id": "5c5bc06b",
   "metadata": {
    "executionInfo": {
     "elapsed": 56,
     "status": "aborted",
     "timestamp": 1656416680675,
     "user": {
      "displayName": "Javeria Zaman",
      "userId": "09828762585372323680"
     },
     "user_tz": -300
    },
    "id": "pOkjGlstasLx"
   },
   "outputs": [
    {
     "data": {
      "text/plain": [
       "array([2.17672, 3.63215, 2.92088, 2.48031, 2.98181, 3.3903 , 2.77971,\n",
       "       2.98629, 3.25624, 3.1326 , 3.4135 , 3.4874 , 3.0874 , 3.90962,\n",
       "       2.4793 , 3.40454, 2.66117, 3.04971, 2.39917, 2.18611, 2.11687,\n",
       "       3.79556, 3.29045, 2.10646, 2.57661, 2.50038, 2.88473, 2.54857,\n",
       "       3.76884, 2.39751, 1.96232, 3.65807, 2.0105 , 3.10535, 2.98282,\n",
       "       3.20554, 1.93913, 2.13644, 3.31453, 2.04758, 3.18542, 2.72768,\n",
       "       2.94877, 2.45826, 2.55793, 1.63915, 2.81503, 3.46322, 3.49751,\n",
       "       2.52818, 3.52816, 2.69858, 3.59949, 2.15001, 3.32976, 2.52984,\n",
       "       2.66978, 3.3053 , 2.07674, 2.23258, 3.24101, 2.69651, 3.78846,\n",
       "       3.00331, 3.1341 , 2.88095, 2.5915 , 2.09675, 2.72   , 3.29753,\n",
       "       2.18537, 3.57041, 3.58271, 3.47553, 2.77182, 2.14013, 3.56967,\n",
       "       3.34996, 2.5748 , 3.14245, 3.719  , 2.10761, 3.01015, 3.54011,\n",
       "       2.44048, 2.58736, 2.7642 , 2.70821, 3.84403, 2.91755, 2.41384,\n",
       "       3.39572, 3.72717, 3.80793, 3.68701, 2.83276, 3.33292, 3.172  ,\n",
       "       3.60657, 3.02868, 3.24167, 3.40727, 3.49537, 3.4664 , 2.81032,\n",
       "       2.92491, 3.02018, 2.30588, 2.55618, 2.21445, 2.24716, 3.76297,\n",
       "       2.9808 , 2.26686, 3.4495 ])"
      ]
     },
     "execution_count": 75,
     "metadata": {},
     "output_type": "execute_result"
    }
   ],
   "source": [
    "Predictions_of_Random_Forest_model_3=Random_Forest_Model_model_3.predict(X_test) #Try to predict(output) of test data\n",
    "Predictions_of_Random_Forest_model_3\n"
   ]
  },
  {
   "cell_type": "code",
   "execution_count": 76,
   "id": "a1ce3c9f",
   "metadata": {},
   "outputs": [
    {
     "name": "stdout",
     "output_type": "stream",
     "text": [
      "Accuracy on training set: 0.991\n",
      "Accuracy on test set: 0.954\n"
     ]
    }
   ],
   "source": [
    "#For training and testing accuracy\n",
    "print(\"Accuracy on training set: {:.3f}\".format(Random_Forest_Model_model_3.score(X_train,y_train)))\n",
    "print(\"Accuracy on test set: {:.3f}\".format(Random_Forest_Model_model_3.score(X_test,y_test)))"
   ]
  },
  {
   "cell_type": "code",
   "execution_count": null,
   "id": "9cf33c87",
   "metadata": {},
   "outputs": [],
   "source": []
  },
  {
   "cell_type": "markdown",
   "id": "82dac855",
   "metadata": {
    "id": "unCwVtExenxX"
   },
   "source": [
    "### Evaluating The Model"
   ]
  },
  {
   "cell_type": "code",
   "execution_count": 77,
   "id": "fc44f438",
   "metadata": {
    "executionInfo": {
     "elapsed": 56,
     "status": "aborted",
     "timestamp": 1656416680676,
     "user": {
      "displayName": "Javeria Zaman",
      "userId": "09828762585372323680"
     },
     "user_tz": -300
    },
    "id": "JgRNG20YeyQu"
   },
   "outputs": [
    {
     "data": {
      "text/plain": [
       "0.13226545778980933"
      ]
     },
     "execution_count": 77,
     "metadata": {},
     "output_type": "execute_result"
    }
   ],
   "source": [
    "#calculate rmse to find error in model . Less rmse good model\n",
    "from sklearn.metrics import mean_squared_error\n",
    "mse=mean_squared_error(y_test,Predictions_of_Random_Forest_model_3)\n",
    "rmse_of_Random_Forest_1_model_3=np.sqrt(mse)\n",
    "rmse_of_Random_Forest_1_model_3"
   ]
  },
  {
   "cell_type": "code",
   "execution_count": 78,
   "id": "8160b2b1",
   "metadata": {
    "executionInfo": {
     "elapsed": 57,
     "status": "aborted",
     "timestamp": 1656416680677,
     "user": {
      "displayName": "Javeria Zaman",
      "userId": "09828762585372323680"
     },
     "user_tz": -300
    },
    "id": "YzuVkCcVeyad"
   },
   "outputs": [
    {
     "data": {
      "text/plain": [
       "array([0.12482944, 0.34000503, 0.13596299, 0.29946578, 0.11417308,\n",
       "       0.12870493, 0.18230749, 0.18010538, 0.11951588, 0.10142248])"
      ]
     },
     "execution_count": 78,
     "metadata": {},
     "output_type": "execute_result"
    }
   ],
   "source": [
    "#Try cross validation to overcome overfitting if happens and then take rmse for every round in cross validation\n",
    "from sklearn.model_selection import cross_val_score\n",
    "cross_value_5=cross_val_score(Random_Forest_Model_model_3, X_test,y_test,scoring=\"neg_mean_squared_error\" ,cv=10)\n",
    "rmse_of_Random_Forest_model_3=np.sqrt(-cross_value_5)\n",
    "rmse_of_Random_Forest_model_3"
   ]
  },
  {
   "cell_type": "code",
   "execution_count": 79,
   "id": "d5d00b0a",
   "metadata": {},
   "outputs": [
    {
     "data": {
      "text/plain": [
       "0.9538271105500412"
      ]
     },
     "execution_count": 79,
     "metadata": {},
     "output_type": "execute_result"
    }
   ],
   "source": [
    "#calculate r^2 metric to find accuracy in model. More its value more better model\n",
    "\n",
    "from sklearn.metrics import r2_score\n",
    "r2_score5=r2_score(y_test,Predictions_of_Random_Forest_model_3)\n",
    "r2_score5"
   ]
  },
  {
   "cell_type": "markdown",
   "id": "4786b326",
   "metadata": {
    "id": "bz4ks9duazVU"
   },
   "source": [
    "### Decision Tree Regressor"
   ]
  },
  {
   "cell_type": "code",
   "execution_count": 80,
   "id": "e846c54e",
   "metadata": {
    "executionInfo": {
     "elapsed": 56,
     "status": "aborted",
     "timestamp": 1656416680677,
     "user": {
      "displayName": "Javeria Zaman",
      "userId": "09828762585372323680"
     },
     "user_tz": -300
    },
    "id": "-sWg4s7Ea2U7"
   },
   "outputs": [],
   "source": [
    "from sklearn.tree import DecisionTreeRegressor\n",
    "Decision_Tree_Model_model_3=DecisionTreeRegressor()#calling the function of algorithm"
   ]
  },
  {
   "cell_type": "code",
   "execution_count": 81,
   "id": "50c037a8",
   "metadata": {
    "executionInfo": {
     "elapsed": 57,
     "status": "aborted",
     "timestamp": 1656416680678,
     "user": {
      "displayName": "Javeria Zaman",
      "userId": "09828762585372323680"
     },
     "user_tz": -300
    },
    "id": "tklXz5UlbAZ-"
   },
   "outputs": [
    {
     "data": {
      "text/plain": [
       "DecisionTreeRegressor()"
      ]
     },
     "execution_count": 81,
     "metadata": {},
     "output_type": "execute_result"
    }
   ],
   "source": [
    "Decision_Tree_Model_model_3.fit(X_train,y_train) #Then fit on our train inputs and outputs"
   ]
  },
  {
   "cell_type": "code",
   "execution_count": 82,
   "id": "2e26a994",
   "metadata": {
    "executionInfo": {
     "elapsed": 57,
     "status": "aborted",
     "timestamp": 1656416680679,
     "user": {
      "displayName": "Javeria Zaman",
      "userId": "09828762585372323680"
     },
     "user_tz": -300
    },
    "id": "Tf3r7tXSbG39",
    "scrolled": true
   },
   "outputs": [
    {
     "data": {
      "text/plain": [
       "array([2.011, 3.668, 3.184, 2.512, 3.137, 3.555, 2.822, 2.736, 3.058,\n",
       "       3.071, 3.664, 3.442, 3.172, 3.925, 2.602, 3.442, 2.208, 3.099,\n",
       "       2.655, 2.579, 2.042, 3.772, 3.366, 1.38 , 2.793, 2.129, 3.363,\n",
       "       2.701, 3.919, 2.574, 1.763, 3.452, 2.042, 2.763, 3.247, 3.058,\n",
       "       1.805, 1.992, 3.176, 2.003, 3.071, 2.854, 3.019, 2.264, 2.792,\n",
       "       1.38 , 2.763, 3.586, 3.335, 3.014, 3.624, 2.704, 3.648, 1.993,\n",
       "       3.47 , 2.129, 2.8  , 3.443, 2.188, 2.552, 3.226, 2.191, 3.741,\n",
       "       2.87 , 2.779, 2.208, 2.378, 1.899, 2.704, 3.442, 2.773, 3.395,\n",
       "       3.485, 3.648, 2.918, 2.254, 3.759, 3.369, 2.636, 3.247, 3.723,\n",
       "       2.053, 2.736, 3.5  , 2.478, 2.607, 2.737, 2.603, 3.925, 2.559,\n",
       "       2.525, 3.452, 3.679, 3.908, 3.737, 2.821, 2.995, 3.259, 3.554,\n",
       "       2.736, 3.06 , 3.29 , 3.395, 3.458, 2.612, 3.058, 2.634, 2.086,\n",
       "       2.711, 1.949, 2.011, 3.769, 2.737, 2.343, 3.395])"
      ]
     },
     "execution_count": 82,
     "metadata": {},
     "output_type": "execute_result"
    }
   ],
   "source": [
    "Predictions_of_Decision_Tree_model_3=Decision_Tree_Model_model_3.predict(X_test)#Try to predict(output) of test data\n",
    "Predictions_of_Decision_Tree_model_3"
   ]
  },
  {
   "cell_type": "code",
   "execution_count": 83,
   "id": "38ad47dc",
   "metadata": {},
   "outputs": [
    {
     "name": "stdout",
     "output_type": "stream",
     "text": [
      "Accuracy on training set: 1.000\n",
      "Accuracy on test set: 0.814\n"
     ]
    }
   ],
   "source": [
    "#For training and testing accuracy\n",
    "print(\"Accuracy on training set: {:.3f}\".format(Decision_Tree_Model_model_3.score(X_train,y_train)))\n",
    "print(\"Accuracy on test set: {:.3f}\".format(Decision_Tree_Model_model_3.score(X_test,y_test)))"
   ]
  },
  {
   "cell_type": "code",
   "execution_count": null,
   "id": "bcce3f50",
   "metadata": {},
   "outputs": [],
   "source": []
  },
  {
   "cell_type": "markdown",
   "id": "6e84c5a9",
   "metadata": {
    "id": "pRAT2hu9e_zD"
   },
   "source": [
    "### Evaluating The Model"
   ]
  },
  {
   "cell_type": "code",
   "execution_count": 84,
   "id": "55ec8f1d",
   "metadata": {
    "executionInfo": {
     "elapsed": 610,
     "status": "aborted",
     "timestamp": 1656416681232,
     "user": {
      "displayName": "Javeria Zaman",
      "userId": "09828762585372323680"
     },
     "user_tz": -300
    },
    "id": "IfnOiGhKfEkk"
   },
   "outputs": [
    {
     "data": {
      "text/plain": [
       "0.26550883060726016"
      ]
     },
     "execution_count": 84,
     "metadata": {},
     "output_type": "execute_result"
    }
   ],
   "source": [
    "#calculate rmse to find error in model . Less rmse good model\n",
    "from sklearn.metrics import mean_squared_error\n",
    "mse=mean_squared_error(y_test,Predictions_of_Decision_Tree_model_3)\n",
    "rmse_of_Decision_Tree_1_model_3=np.sqrt(mse)\n",
    "rmse_of_Decision_Tree_1_model_3"
   ]
  },
  {
   "cell_type": "code",
   "execution_count": 85,
   "id": "70e66287",
   "metadata": {
    "executionInfo": {
     "elapsed": 613,
     "status": "aborted",
     "timestamp": 1656416681235,
     "user": {
      "displayName": "Javeria Zaman",
      "userId": "09828762585372323680"
     },
     "user_tz": -300
    },
    "id": "Im4Ar17SfHrk"
   },
   "outputs": [
    {
     "data": {
      "text/plain": [
       "array([0.31165833, 0.53168804, 0.34344019, 0.38310377, 0.57447512,\n",
       "       0.18710959, 0.27593725, 0.27550087, 0.1930285 , 0.37284606])"
      ]
     },
     "execution_count": 85,
     "metadata": {},
     "output_type": "execute_result"
    }
   ],
   "source": [
    "#Try cross validation to overcome overfitting if happens and then take rmse for every round in cross validation\n",
    "from sklearn.model_selection import cross_val_score\n",
    "cross_value_6=cross_val_score(Decision_Tree_Model_model_3, X_test,y_test,scoring=\"neg_mean_squared_error\" ,cv=10)\n",
    "rmse_of_Decision_Tree_model_3=np.sqrt(-cross_value_6)\n",
    "rmse_of_Decision_Tree_model_3"
   ]
  },
  {
   "cell_type": "code",
   "execution_count": 86,
   "id": "a62d1025",
   "metadata": {},
   "outputs": [
    {
     "data": {
      "text/plain": [
       "0.8139403866524814"
      ]
     },
     "execution_count": 86,
     "metadata": {},
     "output_type": "execute_result"
    }
   ],
   "source": [
    "#calculate r^2 metric to find accuracy in model. More its value more better model\n",
    "from sklearn.metrics import r2_score\n",
    "r2_score6=r2_score6=r2_score(y_test,Predictions_of_Decision_Tree_model_3)\n",
    "r2_score6"
   ]
  },
  {
   "cell_type": "markdown",
   "id": "d02d595f",
   "metadata": {},
   "source": [
    "### LINEAR REGRESSION(ONLY TO CHECK UNDERFITTING)"
   ]
  },
  {
   "cell_type": "code",
   "execution_count": 87,
   "id": "d8519e34",
   "metadata": {},
   "outputs": [],
   "source": [
    "Linear_Regression_Model_model_3=LinearRegression()#calling the function of algorithm"
   ]
  },
  {
   "cell_type": "code",
   "execution_count": 88,
   "id": "cfa3ed10",
   "metadata": {},
   "outputs": [
    {
     "data": {
      "text/plain": [
       "LinearRegression()"
      ]
     },
     "execution_count": 88,
     "metadata": {},
     "output_type": "execute_result"
    }
   ],
   "source": [
    "Linear_Regression_Model_model_3.fit(X_train,y_train) #Then fit on our train inputs and outputs"
   ]
  },
  {
   "cell_type": "code",
   "execution_count": 89,
   "id": "c9061355",
   "metadata": {},
   "outputs": [
    {
     "data": {
      "text/plain": [
       "array([2.13797979, 3.5575496 , 2.93461249, 2.44606083, 2.90234149,\n",
       "       3.38772893, 2.65418992, 2.95308346, 2.9442037 , 3.26503288,\n",
       "       3.39227879, 3.42081814, 3.26878784, 3.86189891, 2.47479221,\n",
       "       3.51380815, 2.44197596, 3.10304632, 2.23120807, 1.90158657,\n",
       "       2.2590658 , 3.79533743, 3.4852383 , 1.60002817, 2.7136226 ,\n",
       "       2.41757667, 2.85810422, 2.47603477, 3.69738012, 2.38235625,\n",
       "       1.97794333, 3.75890357, 1.84763342, 3.194094  , 3.08949152,\n",
       "       3.27709877, 1.86674422, 2.14297836, 3.26126537, 1.94135183,\n",
       "       3.15376077, 2.79814099, 2.91927726, 2.18862608, 2.62204663,\n",
       "       1.32448015, 2.81094068, 3.48105339, 3.34542548, 2.51916252,\n",
       "       3.50836018, 2.67854709, 3.73013071, 2.18451072, 3.35909304,\n",
       "       2.64665263, 2.5026701 , 3.30573231, 1.92468138, 2.24507241,\n",
       "       3.18353045, 2.75493269, 3.63583076, 2.7753581 , 3.02784084,\n",
       "       3.07353386, 2.68624085, 2.11065111, 2.71702294, 3.34848479,\n",
       "       2.27406427, 3.54196194, 3.63017751, 3.38356931, 2.75202706,\n",
       "       1.65613277, 3.56954994, 3.17505936, 2.70528431, 3.22866206,\n",
       "       3.74513939, 2.00228398, 3.12712186, 3.50836035, 2.18745858,\n",
       "       2.46336147, 2.81783196, 2.61721499, 3.77114146, 3.0297315 ,\n",
       "       2.55695127, 3.26746641, 3.55356064, 3.81186358, 3.64092633,\n",
       "       2.87879878, 3.35172922, 3.16570116, 3.60890149, 2.84036082,\n",
       "       3.23999176, 3.53824736, 3.48979932, 3.54447368, 2.66750994,\n",
       "       2.6861419 , 2.96440559, 2.16679282, 2.42739797, 2.19251291,\n",
       "       2.30872723, 3.71759593, 3.07086965, 2.27682333, 3.52830072])"
      ]
     },
     "execution_count": 89,
     "metadata": {},
     "output_type": "execute_result"
    }
   ],
   "source": [
    "Predictions_of_Linear_Regression_model_3=Linear_Regression_Model_model_3.predict(X_test) #Try to predict(output) of test data\n",
    "Predictions_of_Linear_Regression_model_3"
   ]
  },
  {
   "cell_type": "code",
   "execution_count": 90,
   "id": "5f5dda4f",
   "metadata": {},
   "outputs": [
    {
     "name": "stdout",
     "output_type": "stream",
     "text": [
      "Accuracy on training set: 0.953\n",
      "Accuracy on test set: 0.938\n"
     ]
    }
   ],
   "source": [
    "#For training and testing accuracy\n",
    "print(\"Accuracy on training set: {:.3f}\".format(Linear_Regression_Model_model_3.score(X_train,y_train)))\n",
    "print(\"Accuracy on test set: {:.3f}\".format(Linear_Regression_Model_model_3.score(X_test,y_test)))"
   ]
  },
  {
   "cell_type": "code",
   "execution_count": null,
   "id": "77244b80",
   "metadata": {},
   "outputs": [],
   "source": []
  },
  {
   "cell_type": "markdown",
   "id": "bb790f36",
   "metadata": {},
   "source": [
    "### Evaluating the Model"
   ]
  },
  {
   "cell_type": "code",
   "execution_count": 91,
   "id": "82288604",
   "metadata": {},
   "outputs": [
    {
     "data": {
      "text/plain": [
       "0.15311272655223418"
      ]
     },
     "execution_count": 91,
     "metadata": {},
     "output_type": "execute_result"
    }
   ],
   "source": [
    "#calculate rmse to find error in model. Less rmse good model\n",
    "from sklearn.metrics import mean_squared_error\n",
    "mse=mean_squared_error(y_test,Predictions_of_Linear_Regression_model_3)\n",
    "rmse_of_Linear_Regression_1_model_3=np.sqrt(mse)\n",
    "rmse_of_Linear_Regression_1_model_3"
   ]
  },
  {
   "cell_type": "code",
   "execution_count": 92,
   "id": "789a9e4e",
   "metadata": {},
   "outputs": [
    {
     "data": {
      "text/plain": [
       "array([0.10741166, 0.49020983, 0.20183519, 0.27533806, 0.13166644,\n",
       "       0.1487934 , 0.16198075, 0.16528286, 0.0955069 , 0.10178395])"
      ]
     },
     "execution_count": 92,
     "metadata": {},
     "output_type": "execute_result"
    }
   ],
   "source": [
    "#Try cross validation to overcome overfitting if happens and then take rmse for every round in cross validation\n",
    "from sklearn.model_selection import cross_val_score\n",
    "cross_value_1=cross_val_score(Linear_Regression_Model_model_3, X_test,y_test,scoring=\"neg_mean_squared_error\" ,cv=10)\n",
    "rmse_of_Linear_Regression_model_3=np.sqrt(-cross_value_1)\n",
    "rmse_of_Linear_Regression_model_3"
   ]
  },
  {
   "cell_type": "code",
   "execution_count": 93,
   "id": "e62826d1",
   "metadata": {},
   "outputs": [
    {
     "data": {
      "text/plain": [
       "0.9381247801936348"
      ]
     },
     "execution_count": 93,
     "metadata": {},
     "output_type": "execute_result"
    }
   ],
   "source": [
    "#calculate r^2 metric to find accuracy in model. More its value more better model\n",
    "from sklearn.metrics import r2_score\n",
    "r2_score8=r2_score(y_test,Predictions_of_Linear_Regression_model_3)\n",
    "r2_score8"
   ]
  },
  {
   "cell_type": "markdown",
   "id": "c250af97",
   "metadata": {},
   "source": [
    "### Interface"
   ]
  },
  {
   "cell_type": "code",
   "execution_count": 94,
   "id": "a8ebd592",
   "metadata": {
    "id": "fYeOiyXBK_XX"
   },
   "outputs": [],
   "source": [
    "def CGPA_3rd(PH_121 ,HS_101 ,CY_105 ,HS_105_12 ,MT_111 ,CS_105 ,CS_106 ,EL_102 ,EE_119 ,ME_107 ,CS_107, \n",
    "             HS_205_20 ,MT_222 ,EE_222 ,MT_224 ,CS_210 ,CS_211 ,CS_203 ,CS_214 ,EE_217 ,CS_212 ,CS_215,\n",
    "             MT_331 ,EF_303 ,HS_304 ,CS_301 ,CS_302 ,TC_383  ,EL_332,CS_318 ,CS_306 ,CS_312 ,CS_317):\n",
    "    user_input_model_3=np.array([PH_121 ,HS_101 ,CY_105 ,HS_105_12 ,MT_111 ,CS_105 ,CS_106 ,EL_102 ,EE_119 ,ME_107 ,CS_107,HS_205_20 ,MT_222 ,EE_222 ,MT_224 ,CS_210 ,CS_211 ,CS_203 ,CS_214 ,EE_217 ,CS_212 ,CS_215,MT_331 ,EF_303 ,HS_304 ,CS_301 ,CS_302 ,TC_383  ,EL_332,CS_318 ,CS_306 ,CS_312 ,CS_317 ]) #Take user input of grades for each course\n",
    "    user_input_model_3=user_input_model_3.reshape(1,-1)#reshape it\n",
    "    user_input_model_3=pd.DataFrame(user_input_model_3)#Then convert into dataframe beacuse our model make predictions on dataframe\n",
    "    for i in range(0,33):\n",
    "            user_input_model_3[i]=user_input_model_3[i].map(AssignGPs)#Assign grades with their respective GP points\n",
    "    fourcd=[0,5,6,8,9,10,13,18,19,20,21,25,30,31]\n",
    "    thirdcd=[2,3,4,7,12,14,15,16,22,23,26,28,32]\n",
    "    secondcd=[1,11,24,27,29]\n",
    "    onecd=[17]\n",
    "    for i in fourcd:\n",
    "        user_input_model_3.iloc[:, i]=user_input_model_3.iloc[:, i]*4 #multiplying with respective credit_hour(4 credit hour)\n",
    "    for i in thirdcd:\n",
    "        user_input_model_3.iloc[:, i]=user_input_model_3.iloc[:, i]*3 #multiplying with respective credit_hour(3 credit hour)\n",
    "    for i in secondcd:\n",
    "        user_input_model_3.iloc[:, i]=user_input_model_3.iloc[:, i]*2 #multiplying with respective credit_hour(2 credit hour)\n",
    "    user_predictions_model_3=Random_Forest_Model_model_3.predict(user_input_model_3)#Make prediction or give predicted output\n",
    "    return user_predictions_model_3\n",
    "\n",
    "           \n",
    " \n"
   ]
  },
  {
   "cell_type": "markdown",
   "id": "6425c106",
   "metadata": {
    "id": "a_IOXijJK7bw"
   },
   "source": []
  },
  {
   "cell_type": "code",
   "execution_count": 95,
   "id": "f124eb87",
   "metadata": {
    "id": "49ney-zCK-1H"
   },
   "outputs": [],
   "source": [
    "#Interface function\n",
    "third_year_model=gr.Interface(CGPA_3rd, inputs=[\"text\",\"text\",\"text\",\"text\",\"text\",\"text\",\"text\",\"text\",\"text\",\"text\",\"text\",\"text\",\"text\",\"text\",\"text\",\"text\",\"text\",\"text\",\"text\",\"text\",\"text\",\"text\", \"text\",\"text\",\"text\",\"text\",\"text\",\"text\",\"text\",\"text\",\"text\",\"text\",\"text\"],\n",
    "                       outputs=\"number\",description=\"Predict CGPA Using First Year ,Second Year And Third Year Marks And Please Write Grades in Uppercase letters\")\n",
    "\n",
    "\n"
   ]
  },
  {
   "cell_type": "code",
   "execution_count": 96,
   "id": "4854fb2c",
   "metadata": {},
   "outputs": [],
   "source": [
    "#combining all interfaces\n",
    "Final_Model = gr.TabbedInterface([first_year_model, second_year_model,third_year_model], [\"First_Year_Model\", \"Second_Year_Model\", \"Third_Year_Model\"])\n",
    "\n"
   ]
  },
  {
   "cell_type": "code",
   "execution_count": 97,
   "id": "7e4f5526",
   "metadata": {},
   "outputs": [
    {
     "name": "stdout",
     "output_type": "stream",
     "text": [
      "Running on local URL:  http://127.0.0.1:7860/\n",
      "\n",
      "To create a public link, set `share=True` in `launch()`.\n"
     ]
    },
    {
     "data": {
      "text/html": [
       "<div><iframe src=\"http://127.0.0.1:7860/\" width=\"900\" height=\"500\" allow=\"autoplay; camera; microphone;\" frameborder=\"0\" allowfullscreen></iframe></div>"
      ],
      "text/plain": [
       "<IPython.core.display.HTML object>"
      ]
     },
     "metadata": {},
     "output_type": "display_data"
    },
    {
     "data": {
      "text/plain": [
       "(<gradio.routes.App at 0x2634d1eab20>, 'http://127.0.0.1:7860/', None)"
      ]
     },
     "execution_count": 97,
     "metadata": {},
     "output_type": "execute_result"
    }
   ],
   "source": [
    "Final_Model.launch() #launch interface"
   ]
  },
  {
   "cell_type": "code",
   "execution_count": 98,
   "id": "ee6bd084",
   "metadata": {},
   "outputs": [
    {
     "data": {
      "image/png": "[encoded data removed]",
      "text/plain": [
       "<Figure size 432x288 with 1 Axes>"
      ]
     },
     "metadata": {
      "needs_background": "light"
     },
     "output_type": "display_data"
    }
   ],
   "source": [
    "#For comparision between 2 models on basis of cross validation\n",
    "results=[]\n",
    "results.append(-cross_value_5)\n",
    "results.append(-cross_value_6)\n",
    "models=[('RF3',Random_Forest_Model_model_3),('DT3',Decision_Tree_Model_model_3)]\n",
    "scoring='accuracy'\n",
    "names=[]\n",
    "for name,model in models:\n",
    "    names.append(name)\n",
    "#Boxplot Algorithm Comparison\n",
    "fig=plt.figure()\n",
    "fig.suptitle('Comparison between the models')\n",
    "ax=fig.add_subplot(111)\n",
    "plt.boxplot(results)\n",
    "ax.set_xticklabels(names)\n",
    "plt.show()"
   ]
  },
  {
   "cell_type": "code",
   "execution_count": null,
   "id": "e091e447",
   "metadata": {},
   "outputs": [],
   "source": []
  },
  {
   "cell_type": "markdown",
   "id": "0a7cab23",
   "metadata": {},
   "source": [
    "### Graphical Comparison of all Models"
   ]
  },
  {
   "cell_type": "code",
   "execution_count": 99,
   "id": "f6ded72b",
   "metadata": {},
   "outputs": [],
   "source": [
    "import matplotlib.pyplot as plt\n",
    "from sklearn import model_selection\n",
    "from sklearn.model_selection import KFold"
   ]
  },
  {
   "cell_type": "code",
   "execution_count": 100,
   "id": "92e68fcd",
   "metadata": {},
   "outputs": [
    {
     "data": {
      "text/plain": [
       "[array([0.01153726, 0.24030567, 0.04073744, 0.07581104, 0.01733605,\n",
       "        0.02213947, 0.02623776, 0.02731842, 0.00912157, 0.01035997]),\n",
       " array([0.06197523, 0.08878428, 0.15012458, 0.04752308, 0.09661808,\n",
       "        0.09800955, 0.13080379, 0.04749075, 0.07221359, 0.02791032]),\n",
       " array([0.02347622, 0.02055465, 0.03782589, 0.00788125, 0.03857508,\n",
       "        0.02370904, 0.01796285, 0.01213506, 0.01476627, 0.01561135]),\n",
       " array([0.05016877, 0.03943516, 0.13175889, 0.02997565, 0.04281185,\n",
       "        0.07809404, 0.03315217, 0.02822924, 0.04097844, 0.02279982]),\n",
       " array([0.01558239, 0.11560342, 0.01848593, 0.08967976, 0.01303549,\n",
       "        0.01656496, 0.03323602, 0.03243795, 0.01428405, 0.01028652]),\n",
       " array([0.09713092, 0.28269217, 0.11795117, 0.1467685 , 0.33002167,\n",
       "        0.03501   , 0.07614136, 0.07590073, 0.03726   , 0.13901418])]"
      ]
     },
     "execution_count": 100,
     "metadata": {},
     "output_type": "execute_result"
    }
   ],
   "source": [
    "results=[]\n",
    "results.append(-cross_value_1)\n",
    "results.append(-cross_value_2)\n",
    "results.append(-cross_value_3)\n",
    "results.append(-cross_value_4)\n",
    "results.append(-cross_value_5)\n",
    "results.append(-cross_value_6)\n",
    "results"
   ]
  },
  {
   "cell_type": "code",
   "execution_count": 101,
   "id": "20ff76e9",
   "metadata": {},
   "outputs": [
    {
     "data": {
      "image/png": "[encoded data removed]",
      "text/plain": [
       "<Figure size 432x288 with 1 Axes>"
      ]
     },
     "metadata": {
      "needs_background": "light"
     },
     "output_type": "display_data"
    }
   ],
   "source": [
    "#Comparision between all models on basis of cross_validation\n",
    "models=[('LR1',Linear_Regression_Model_model_1),('RF1',Random_Forest_Model_model_1),('SVR2',Support_Vector_Regressor_Model_model_2),('KNN2',KNeighborsRegressor_Model_model_2),('RF3',Random_Forest_Model_model_3),('DT3',Decision_Tree_Model_model_3)]\n",
    "scoring='accuracy'\n",
    "names=[]\n",
    "for name,model in models:\n",
    "    names.append(name)\n",
    "#Boxplot Algorithm Comparison\n",
    "fig=plt.figure()\n",
    "fig.suptitle('Comparison between all the models')\n",
    "ax=fig.add_subplot(111)\n",
    "plt.boxplot(results)\n",
    "ax.set_xticklabels(names)\n",
    "plt.show()"
   ]
  },
  {
   "cell_type": "code",
   "execution_count": null,
   "id": "85c44f2e",
   "metadata": {},
   "outputs": [],
   "source": []
  }
 ],
 "metadata": {
  "colab": {
   "collapsed_sections": [],
   "name": "Copy of Project.ipynb",
   "provenance": [
    {
     "file_id": "1KAxOdPR6nFvD6s3PhI96dRxHH971Sgea",
     "timestamp": 1656415876964
    }
   ]
  },
  "kernelspec": {
   "display_name": "Python 3 (ipykernel)",
   "language": "python",
   "name": "python3"
  },
  "language_info": {
   "codemirror_mode": {
    "name": "ipython",
    "version": 3
   },
   "file_extension": ".py",
   "mimetype": "text/x-python",
   "name": "python",
   "nbconvert_exporter": "python",
   "pygments_lexer": "ipython3",
   "version": "3.9.12"
  }
 },
 "nbformat": 4,
 "nbformat_minor": 5
}
